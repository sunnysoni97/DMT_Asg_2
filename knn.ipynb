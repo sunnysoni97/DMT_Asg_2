{
 "cells": [
  {
   "cell_type": "code",
   "execution_count": 1,
   "metadata": {},
   "outputs": [
    {
     "name": "stdout",
     "output_type": "stream",
     "text": [
      "Note: you may need to restart the kernel to use updated packages.\n"
     ]
    }
   ],
   "source": [
    "%pip install -q sklearn matplotlib pandas"
   ]
  },
  {
   "cell_type": "markdown",
   "metadata": {},
   "source": [
    "Importing the Training File"
   ]
  },
  {
   "cell_type": "code",
   "execution_count": 2,
   "metadata": {},
   "outputs": [],
   "source": [
    "import pandas as pd\n",
    "import os\n",
    "\n",
    "file_path = os.path.join(os.getcwd(),'data/training_set_VU_DM.csv') \n",
    "chunks = pd.read_csv(file_path,chunksize=50000)\n",
    "train_data = chunks.get_chunk(50000)"
   ]
  },
  {
   "cell_type": "code",
   "execution_count": 3,
   "metadata": {},
   "outputs": [
    {
     "data": {
      "text/plain": [
       "50000"
      ]
     },
     "execution_count": 3,
     "metadata": {},
     "output_type": "execute_result"
    }
   ],
   "source": [
    "len(train_data)"
   ]
  },
  {
   "cell_type": "code",
   "execution_count": 4,
   "metadata": {},
   "outputs": [],
   "source": [
    "import functions.preprocessing as prep\n",
    "\n",
    "train_data = prep.mergeCompsAll(train_data)"
   ]
  },
  {
   "cell_type": "code",
   "execution_count": 5,
   "metadata": {},
   "outputs": [],
   "source": [
    "import numpy as np\n",
    "\n",
    "conditions = [\n",
    "    (train_data['booking_bool'] == 1),\n",
    "    (train_data['click_bool'] == 1 ) & (train_data['booking_bool'] == 0),\n",
    "    (train_data['click_bool'] == 0),\n",
    "    ]\n",
    "values = ['5', '1', '0']\n",
    "train_data['relevancy'] = np.select(conditions, values)\n",
    "train_data['relevancy'] = train_data['relevancy'].astype('category')"
   ]
  },
  {
   "cell_type": "code",
   "execution_count": 6,
   "metadata": {},
   "outputs": [
    {
     "name": "stdout",
     "output_type": "stream",
     "text": [
      "Full length :  50000\n",
      "Length after dropping rows :  50000\n",
      "Length after dropping rows :  50000\n"
     ]
    }
   ],
   "source": [
    "columns_with_relevance = ['site_id', 'visitor_location_country_id', 'prop_country_id', 'prop_starrating', 'prop_brand_bool', 'prop_location_score1',\n",
    "                              'prop_log_historical_price', 'promotion_flag', 'srch_destination_id', 'srch_length_of_stay', 'srch_booking_window',\n",
    "                              'srch_saturday_night_bool', 'random_bool', 'comp_rate', 'comp_inv', 'comp_rate_percent_diff','relevancy']\n",
    "\n",
    "train_data = train_data[columns_with_relevance]\n",
    "print('Full length : ',len(train_data))\n",
    "train_data = train_data.dropna(thresh=2)\n",
    "train_data = prep.fill_comp_rate(train_data)\n",
    "train_data = prep.fill_comp_inv(train_data)\n",
    "train_data = prep.fill_rate_diff(train_data)\n",
    "\n",
    "columns = ['site_id', 'visitor_location_country_id', 'prop_country_id', 'prop_starrating', 'prop_brand_bool', 'prop_location_score1',\n",
    "                              'prop_log_historical_price', 'promotion_flag', 'srch_destination_id', 'srch_length_of_stay', 'srch_booking_window',\n",
    "                              'srch_saturday_night_bool', 'random_bool', 'comp_rate', 'comp_inv', 'comp_rate_percent_diff']\n",
    "\n",
    "train_data_x = train_data[columns]\n",
    "train_data_y = train_data.relevancy\n",
    "\n",
    "print('Length after dropping rows : ',len(train_data_x))\n",
    "print('Length after dropping rows : ',len(train_data_y))"
   ]
  }
 ],
 "metadata": {
  "interpreter": {
   "hash": "c5c8082da82be54279a88874e79277ed4c9bfc93c4811a87cbd0d0ff82e4568e"
  },
  "kernelspec": {
   "display_name": "Python 3.8.10 ('dmt_py_env': venv)",
   "language": "python",
   "name": "python3"
  },
  "language_info": {
   "codemirror_mode": {
    "name": "ipython",
    "version": 3
   },
   "file_extension": ".py",
   "mimetype": "text/x-python",
   "name": "python",
   "nbconvert_exporter": "python",
   "pygments_lexer": "ipython3",
   "version": "3.8.10"
  },
  "orig_nbformat": 4
 },
 "nbformat": 4,
 "nbformat_minor": 2
}

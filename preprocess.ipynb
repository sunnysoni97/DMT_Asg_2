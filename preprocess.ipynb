{
 "cells": [
  {
   "cell_type": "code",
   "execution_count": 1,
   "metadata": {},
   "outputs": [
    {
     "name": "stdout",
     "output_type": "stream",
     "text": [
      "Note: you may need to restart the kernel to use updated packages.\n"
     ]
    }
   ],
   "source": [
    "%pip install -q pandas numpy"
   ]
  },
  {
   "cell_type": "code",
   "execution_count": 2,
   "metadata": {},
   "outputs": [],
   "source": [
    "import pandas as pd\n",
    "import numpy as np\n",
    "import os\n",
    "import functions.preprocessing as prep\n",
    "import gc"
   ]
  },
  {
   "cell_type": "markdown",
   "metadata": {},
   "source": [
    "Load the original dataset"
   ]
  },
  {
   "cell_type": "code",
   "execution_count": 3,
   "metadata": {},
   "outputs": [
    {
     "data": {
      "text/html": [
       "<div>\n",
       "<style scoped>\n",
       "    .dataframe tbody tr th:only-of-type {\n",
       "        vertical-align: middle;\n",
       "    }\n",
       "\n",
       "    .dataframe tbody tr th {\n",
       "        vertical-align: top;\n",
       "    }\n",
       "\n",
       "    .dataframe thead th {\n",
       "        text-align: right;\n",
       "    }\n",
       "</style>\n",
       "<table border=\"1\" class=\"dataframe\">\n",
       "  <thead>\n",
       "    <tr style=\"text-align: right;\">\n",
       "      <th></th>\n",
       "      <th>srch_id</th>\n",
       "      <th>date_time</th>\n",
       "      <th>site_id</th>\n",
       "      <th>visitor_location_country_id</th>\n",
       "      <th>visitor_hist_starrating</th>\n",
       "      <th>visitor_hist_adr_usd</th>\n",
       "      <th>prop_country_id</th>\n",
       "      <th>prop_id</th>\n",
       "      <th>prop_starrating</th>\n",
       "      <th>prop_review_score</th>\n",
       "      <th>...</th>\n",
       "      <th>comp6_rate_percent_diff</th>\n",
       "      <th>comp7_rate</th>\n",
       "      <th>comp7_inv</th>\n",
       "      <th>comp7_rate_percent_diff</th>\n",
       "      <th>comp8_rate</th>\n",
       "      <th>comp8_inv</th>\n",
       "      <th>comp8_rate_percent_diff</th>\n",
       "      <th>click_bool</th>\n",
       "      <th>gross_bookings_usd</th>\n",
       "      <th>booking_bool</th>\n",
       "    </tr>\n",
       "  </thead>\n",
       "  <tbody>\n",
       "    <tr>\n",
       "      <th>0</th>\n",
       "      <td>1</td>\n",
       "      <td>2013-04-04 08:32:15</td>\n",
       "      <td>12</td>\n",
       "      <td>187</td>\n",
       "      <td>NaN</td>\n",
       "      <td>NaN</td>\n",
       "      <td>219</td>\n",
       "      <td>893</td>\n",
       "      <td>3</td>\n",
       "      <td>3.5</td>\n",
       "      <td>...</td>\n",
       "      <td>NaN</td>\n",
       "      <td>NaN</td>\n",
       "      <td>NaN</td>\n",
       "      <td>NaN</td>\n",
       "      <td>0.0</td>\n",
       "      <td>0.0</td>\n",
       "      <td>NaN</td>\n",
       "      <td>0</td>\n",
       "      <td>NaN</td>\n",
       "      <td>0</td>\n",
       "    </tr>\n",
       "    <tr>\n",
       "      <th>1</th>\n",
       "      <td>1</td>\n",
       "      <td>2013-04-04 08:32:15</td>\n",
       "      <td>12</td>\n",
       "      <td>187</td>\n",
       "      <td>NaN</td>\n",
       "      <td>NaN</td>\n",
       "      <td>219</td>\n",
       "      <td>10404</td>\n",
       "      <td>4</td>\n",
       "      <td>4.0</td>\n",
       "      <td>...</td>\n",
       "      <td>NaN</td>\n",
       "      <td>NaN</td>\n",
       "      <td>NaN</td>\n",
       "      <td>NaN</td>\n",
       "      <td>0.0</td>\n",
       "      <td>0.0</td>\n",
       "      <td>NaN</td>\n",
       "      <td>0</td>\n",
       "      <td>NaN</td>\n",
       "      <td>0</td>\n",
       "    </tr>\n",
       "    <tr>\n",
       "      <th>2</th>\n",
       "      <td>1</td>\n",
       "      <td>2013-04-04 08:32:15</td>\n",
       "      <td>12</td>\n",
       "      <td>187</td>\n",
       "      <td>NaN</td>\n",
       "      <td>NaN</td>\n",
       "      <td>219</td>\n",
       "      <td>21315</td>\n",
       "      <td>3</td>\n",
       "      <td>4.5</td>\n",
       "      <td>...</td>\n",
       "      <td>NaN</td>\n",
       "      <td>NaN</td>\n",
       "      <td>NaN</td>\n",
       "      <td>NaN</td>\n",
       "      <td>0.0</td>\n",
       "      <td>0.0</td>\n",
       "      <td>NaN</td>\n",
       "      <td>0</td>\n",
       "      <td>NaN</td>\n",
       "      <td>0</td>\n",
       "    </tr>\n",
       "    <tr>\n",
       "      <th>3</th>\n",
       "      <td>1</td>\n",
       "      <td>2013-04-04 08:32:15</td>\n",
       "      <td>12</td>\n",
       "      <td>187</td>\n",
       "      <td>NaN</td>\n",
       "      <td>NaN</td>\n",
       "      <td>219</td>\n",
       "      <td>27348</td>\n",
       "      <td>2</td>\n",
       "      <td>4.0</td>\n",
       "      <td>...</td>\n",
       "      <td>NaN</td>\n",
       "      <td>NaN</td>\n",
       "      <td>NaN</td>\n",
       "      <td>NaN</td>\n",
       "      <td>-1.0</td>\n",
       "      <td>0.0</td>\n",
       "      <td>5.0</td>\n",
       "      <td>0</td>\n",
       "      <td>NaN</td>\n",
       "      <td>0</td>\n",
       "    </tr>\n",
       "    <tr>\n",
       "      <th>4</th>\n",
       "      <td>1</td>\n",
       "      <td>2013-04-04 08:32:15</td>\n",
       "      <td>12</td>\n",
       "      <td>187</td>\n",
       "      <td>NaN</td>\n",
       "      <td>NaN</td>\n",
       "      <td>219</td>\n",
       "      <td>29604</td>\n",
       "      <td>4</td>\n",
       "      <td>3.5</td>\n",
       "      <td>...</td>\n",
       "      <td>NaN</td>\n",
       "      <td>NaN</td>\n",
       "      <td>NaN</td>\n",
       "      <td>NaN</td>\n",
       "      <td>0.0</td>\n",
       "      <td>0.0</td>\n",
       "      <td>NaN</td>\n",
       "      <td>0</td>\n",
       "      <td>NaN</td>\n",
       "      <td>0</td>\n",
       "    </tr>\n",
       "  </tbody>\n",
       "</table>\n",
       "<p>5 rows × 54 columns</p>\n",
       "</div>"
      ],
      "text/plain": [
       "   srch_id            date_time  site_id  visitor_location_country_id  \\\n",
       "0        1  2013-04-04 08:32:15       12                          187   \n",
       "1        1  2013-04-04 08:32:15       12                          187   \n",
       "2        1  2013-04-04 08:32:15       12                          187   \n",
       "3        1  2013-04-04 08:32:15       12                          187   \n",
       "4        1  2013-04-04 08:32:15       12                          187   \n",
       "\n",
       "   visitor_hist_starrating  visitor_hist_adr_usd  prop_country_id  prop_id  \\\n",
       "0                      NaN                   NaN              219      893   \n",
       "1                      NaN                   NaN              219    10404   \n",
       "2                      NaN                   NaN              219    21315   \n",
       "3                      NaN                   NaN              219    27348   \n",
       "4                      NaN                   NaN              219    29604   \n",
       "\n",
       "   prop_starrating  prop_review_score  ...  comp6_rate_percent_diff  \\\n",
       "0                3                3.5  ...                      NaN   \n",
       "1                4                4.0  ...                      NaN   \n",
       "2                3                4.5  ...                      NaN   \n",
       "3                2                4.0  ...                      NaN   \n",
       "4                4                3.5  ...                      NaN   \n",
       "\n",
       "   comp7_rate  comp7_inv  comp7_rate_percent_diff  comp8_rate  comp8_inv  \\\n",
       "0         NaN        NaN                      NaN         0.0        0.0   \n",
       "1         NaN        NaN                      NaN         0.0        0.0   \n",
       "2         NaN        NaN                      NaN         0.0        0.0   \n",
       "3         NaN        NaN                      NaN        -1.0        0.0   \n",
       "4         NaN        NaN                      NaN         0.0        0.0   \n",
       "\n",
       "   comp8_rate_percent_diff  click_bool  gross_bookings_usd  booking_bool  \n",
       "0                      NaN           0                 NaN             0  \n",
       "1                      NaN           0                 NaN             0  \n",
       "2                      NaN           0                 NaN             0  \n",
       "3                      5.0           0                 NaN             0  \n",
       "4                      NaN           0                 NaN             0  \n",
       "\n",
       "[5 rows x 54 columns]"
      ]
     },
     "execution_count": 3,
     "metadata": {},
     "output_type": "execute_result"
    }
   ],
   "source": [
    "dataset_path = os.path.join(os.getcwd(),'data/training_set_VU_DM.csv')\n",
    "\n",
    "#change this to increase size of training data\n",
    "no_of_rows_to_get = 10000000\n",
    "\n",
    "train_df_og = pd.read_csv(dataset_path,chunksize=no_of_rows_to_get)\n",
    "\n",
    "train_df_og = train_df_og.get_chunk(no_of_rows_to_get)\n",
    "\n",
    "train_df_og.head()"
   ]
  },
  {
   "cell_type": "markdown",
   "metadata": {},
   "source": [
    "Balancing the Dataset"
   ]
  },
  {
   "cell_type": "code",
   "execution_count": 4,
   "metadata": {},
   "outputs": [
    {
     "name": "stdout",
     "output_type": "stream",
     "text": [
      "Number of Searches (Booked vs Non-Booked) : \n"
     ]
    },
    {
     "data": {
      "text/html": [
       "<div>\n",
       "<style scoped>\n",
       "    .dataframe tbody tr th:only-of-type {\n",
       "        vertical-align: middle;\n",
       "    }\n",
       "\n",
       "    .dataframe tbody tr th {\n",
       "        vertical-align: top;\n",
       "    }\n",
       "\n",
       "    .dataframe thead th {\n",
       "        text-align: right;\n",
       "    }\n",
       "</style>\n",
       "<table border=\"1\" class=\"dataframe\">\n",
       "  <thead>\n",
       "    <tr style=\"text-align: right;\">\n",
       "      <th></th>\n",
       "      <th>srch_id</th>\n",
       "    </tr>\n",
       "    <tr>\n",
       "      <th>booked</th>\n",
       "      <th></th>\n",
       "    </tr>\n",
       "  </thead>\n",
       "  <tbody>\n",
       "    <tr>\n",
       "      <th>0</th>\n",
       "      <td>12435</td>\n",
       "    </tr>\n",
       "    <tr>\n",
       "      <th>1</th>\n",
       "      <td>27738</td>\n",
       "    </tr>\n",
       "  </tbody>\n",
       "</table>\n",
       "</div>"
      ],
      "text/plain": [
       "        srch_id\n",
       "booked         \n",
       "0         12435\n",
       "1         27738"
      ]
     },
     "execution_count": 4,
     "metadata": {},
     "output_type": "execute_result"
    }
   ],
   "source": [
    "df1 = train_df_og.groupby('srch_id')[\"booking_bool\"].apply(lambda x: (x==1).sum()).reset_index(name='booked')\n",
    "df2 = df1.groupby('booked').count()\n",
    "print(\"Number of Searches (Booked vs Non-Booked) : \")\n",
    "df2"
   ]
  },
  {
   "cell_type": "code",
   "execution_count": 5,
   "metadata": {},
   "outputs": [
    {
     "name": "stdout",
     "output_type": "stream",
     "text": [
      "0\n",
      "12435\n"
     ]
    }
   ],
   "source": [
    "all_srch_df = df1.groupby('booked')\n",
    "df_booked = all_srch_df.get_group(1).drop(\"booked\",axis=1)\n",
    "df_not_booked = all_srch_df.get_group(0).drop(\"booked\",axis=1)\n",
    "\n",
    "len_df = [len(df_not_booked),len(df_booked)]\n",
    "lower_number = len_df[np.argmin(len_df)]\n",
    "print(np.argmin(len_df))\n",
    "print(lower_number)"
   ]
  },
  {
   "cell_type": "code",
   "execution_count": 6,
   "metadata": {},
   "outputs": [
    {
     "name": "stdout",
     "output_type": "stream",
     "text": [
      "12435\n",
      "27738\n"
     ]
    }
   ],
   "source": [
    "no_of_non_booked = np.min([lower_number,20000])\n",
    "no_of_booked = int(5*no_of_non_booked)\n",
    "no_of_booked = np.min([no_of_booked,len(df_booked)])\n",
    "print(no_of_non_booked)\n",
    "print(no_of_booked)"
   ]
  },
  {
   "cell_type": "code",
   "execution_count": 7,
   "metadata": {},
   "outputs": [],
   "source": [
    "df_booked = df_booked.sample(n=no_of_booked,random_state=7).reset_index(drop=True)\n",
    "df_not_booked = df_not_booked.sample(n=no_of_non_booked,random_state=10).reset_index(drop=True)"
   ]
  },
  {
   "cell_type": "code",
   "execution_count": 8,
   "metadata": {},
   "outputs": [],
   "source": [
    "train_data_booked = train_df_og.merge(df_booked,on='srch_id')\n",
    "train_data_not_booked = train_df_og.merge(df_not_booked,on='srch_id')"
   ]
  },
  {
   "cell_type": "code",
   "execution_count": 9,
   "metadata": {},
   "outputs": [],
   "source": [
    "train_data = pd.concat([train_data_not_booked,train_data_booked]).reset_index(drop=True)"
   ]
  },
  {
   "cell_type": "code",
   "execution_count": 10,
   "metadata": {},
   "outputs": [
    {
     "data": {
      "text/html": [
       "<div>\n",
       "<style scoped>\n",
       "    .dataframe tbody tr th:only-of-type {\n",
       "        vertical-align: middle;\n",
       "    }\n",
       "\n",
       "    .dataframe tbody tr th {\n",
       "        vertical-align: top;\n",
       "    }\n",
       "\n",
       "    .dataframe thead th {\n",
       "        text-align: right;\n",
       "    }\n",
       "</style>\n",
       "<table border=\"1\" class=\"dataframe\">\n",
       "  <thead>\n",
       "    <tr style=\"text-align: right;\">\n",
       "      <th></th>\n",
       "      <th>srch_id</th>\n",
       "      <th>date_time</th>\n",
       "      <th>site_id</th>\n",
       "      <th>visitor_location_country_id</th>\n",
       "      <th>visitor_hist_starrating</th>\n",
       "      <th>visitor_hist_adr_usd</th>\n",
       "      <th>prop_country_id</th>\n",
       "      <th>prop_id</th>\n",
       "      <th>prop_starrating</th>\n",
       "      <th>prop_review_score</th>\n",
       "      <th>...</th>\n",
       "      <th>comp6_rate_percent_diff</th>\n",
       "      <th>comp7_rate</th>\n",
       "      <th>comp7_inv</th>\n",
       "      <th>comp7_rate_percent_diff</th>\n",
       "      <th>comp8_rate</th>\n",
       "      <th>comp8_inv</th>\n",
       "      <th>comp8_rate_percent_diff</th>\n",
       "      <th>click_bool</th>\n",
       "      <th>gross_bookings_usd</th>\n",
       "      <th>booking_bool</th>\n",
       "    </tr>\n",
       "  </thead>\n",
       "  <tbody>\n",
       "    <tr>\n",
       "      <th>0</th>\n",
       "      <td>4</td>\n",
       "      <td>2012-12-31 08:59:22</td>\n",
       "      <td>5</td>\n",
       "      <td>219</td>\n",
       "      <td>NaN</td>\n",
       "      <td>NaN</td>\n",
       "      <td>219</td>\n",
       "      <td>3625</td>\n",
       "      <td>4</td>\n",
       "      <td>4.0</td>\n",
       "      <td>...</td>\n",
       "      <td>NaN</td>\n",
       "      <td>NaN</td>\n",
       "      <td>NaN</td>\n",
       "      <td>NaN</td>\n",
       "      <td>NaN</td>\n",
       "      <td>NaN</td>\n",
       "      <td>NaN</td>\n",
       "      <td>0</td>\n",
       "      <td>NaN</td>\n",
       "      <td>0</td>\n",
       "    </tr>\n",
       "    <tr>\n",
       "      <th>1</th>\n",
       "      <td>4</td>\n",
       "      <td>2012-12-31 08:59:22</td>\n",
       "      <td>5</td>\n",
       "      <td>219</td>\n",
       "      <td>NaN</td>\n",
       "      <td>NaN</td>\n",
       "      <td>219</td>\n",
       "      <td>11622</td>\n",
       "      <td>4</td>\n",
       "      <td>4.0</td>\n",
       "      <td>...</td>\n",
       "      <td>NaN</td>\n",
       "      <td>NaN</td>\n",
       "      <td>NaN</td>\n",
       "      <td>NaN</td>\n",
       "      <td>NaN</td>\n",
       "      <td>NaN</td>\n",
       "      <td>NaN</td>\n",
       "      <td>0</td>\n",
       "      <td>NaN</td>\n",
       "      <td>0</td>\n",
       "    </tr>\n",
       "    <tr>\n",
       "      <th>2</th>\n",
       "      <td>4</td>\n",
       "      <td>2012-12-31 08:59:22</td>\n",
       "      <td>5</td>\n",
       "      <td>219</td>\n",
       "      <td>NaN</td>\n",
       "      <td>NaN</td>\n",
       "      <td>219</td>\n",
       "      <td>11826</td>\n",
       "      <td>5</td>\n",
       "      <td>4.5</td>\n",
       "      <td>...</td>\n",
       "      <td>NaN</td>\n",
       "      <td>NaN</td>\n",
       "      <td>NaN</td>\n",
       "      <td>NaN</td>\n",
       "      <td>NaN</td>\n",
       "      <td>NaN</td>\n",
       "      <td>NaN</td>\n",
       "      <td>0</td>\n",
       "      <td>NaN</td>\n",
       "      <td>0</td>\n",
       "    </tr>\n",
       "    <tr>\n",
       "      <th>3</th>\n",
       "      <td>4</td>\n",
       "      <td>2012-12-31 08:59:22</td>\n",
       "      <td>5</td>\n",
       "      <td>219</td>\n",
       "      <td>NaN</td>\n",
       "      <td>NaN</td>\n",
       "      <td>219</td>\n",
       "      <td>22824</td>\n",
       "      <td>3</td>\n",
       "      <td>4.0</td>\n",
       "      <td>...</td>\n",
       "      <td>NaN</td>\n",
       "      <td>NaN</td>\n",
       "      <td>NaN</td>\n",
       "      <td>NaN</td>\n",
       "      <td>NaN</td>\n",
       "      <td>NaN</td>\n",
       "      <td>NaN</td>\n",
       "      <td>0</td>\n",
       "      <td>NaN</td>\n",
       "      <td>0</td>\n",
       "    </tr>\n",
       "    <tr>\n",
       "      <th>4</th>\n",
       "      <td>4</td>\n",
       "      <td>2012-12-31 08:59:22</td>\n",
       "      <td>5</td>\n",
       "      <td>219</td>\n",
       "      <td>NaN</td>\n",
       "      <td>NaN</td>\n",
       "      <td>219</td>\n",
       "      <td>37581</td>\n",
       "      <td>5</td>\n",
       "      <td>4.5</td>\n",
       "      <td>...</td>\n",
       "      <td>NaN</td>\n",
       "      <td>NaN</td>\n",
       "      <td>NaN</td>\n",
       "      <td>NaN</td>\n",
       "      <td>NaN</td>\n",
       "      <td>NaN</td>\n",
       "      <td>NaN</td>\n",
       "      <td>0</td>\n",
       "      <td>NaN</td>\n",
       "      <td>0</td>\n",
       "    </tr>\n",
       "  </tbody>\n",
       "</table>\n",
       "<p>5 rows × 54 columns</p>\n",
       "</div>"
      ],
      "text/plain": [
       "   srch_id            date_time  site_id  visitor_location_country_id  \\\n",
       "0        4  2012-12-31 08:59:22        5                          219   \n",
       "1        4  2012-12-31 08:59:22        5                          219   \n",
       "2        4  2012-12-31 08:59:22        5                          219   \n",
       "3        4  2012-12-31 08:59:22        5                          219   \n",
       "4        4  2012-12-31 08:59:22        5                          219   \n",
       "\n",
       "   visitor_hist_starrating  visitor_hist_adr_usd  prop_country_id  prop_id  \\\n",
       "0                      NaN                   NaN              219     3625   \n",
       "1                      NaN                   NaN              219    11622   \n",
       "2                      NaN                   NaN              219    11826   \n",
       "3                      NaN                   NaN              219    22824   \n",
       "4                      NaN                   NaN              219    37581   \n",
       "\n",
       "   prop_starrating  prop_review_score  ...  comp6_rate_percent_diff  \\\n",
       "0                4                4.0  ...                      NaN   \n",
       "1                4                4.0  ...                      NaN   \n",
       "2                5                4.5  ...                      NaN   \n",
       "3                3                4.0  ...                      NaN   \n",
       "4                5                4.5  ...                      NaN   \n",
       "\n",
       "   comp7_rate  comp7_inv  comp7_rate_percent_diff  comp8_rate  comp8_inv  \\\n",
       "0         NaN        NaN                      NaN         NaN        NaN   \n",
       "1         NaN        NaN                      NaN         NaN        NaN   \n",
       "2         NaN        NaN                      NaN         NaN        NaN   \n",
       "3         NaN        NaN                      NaN         NaN        NaN   \n",
       "4         NaN        NaN                      NaN         NaN        NaN   \n",
       "\n",
       "   comp8_rate_percent_diff  click_bool  gross_bookings_usd  booking_bool  \n",
       "0                      NaN           0                 NaN             0  \n",
       "1                      NaN           0                 NaN             0  \n",
       "2                      NaN           0                 NaN             0  \n",
       "3                      NaN           0                 NaN             0  \n",
       "4                      NaN           0                 NaN             0  \n",
       "\n",
       "[5 rows x 54 columns]"
      ]
     },
     "execution_count": 10,
     "metadata": {},
     "output_type": "execute_result"
    }
   ],
   "source": [
    "train_data.head()"
   ]
  },
  {
   "cell_type": "code",
   "execution_count": 11,
   "metadata": {},
   "outputs": [
    {
     "data": {
      "text/plain": [
       "1000000"
      ]
     },
     "execution_count": 11,
     "metadata": {},
     "output_type": "execute_result"
    }
   ],
   "source": [
    "len(train_data)"
   ]
  },
  {
   "cell_type": "code",
   "execution_count": 12,
   "metadata": {},
   "outputs": [],
   "source": [
    "del[[train_df_og,df_booked,df_not_booked,train_data_booked,train_data_not_booked]]\n",
    "gc.collect()\n",
    "train_df_og = pd.DataFrame()\n",
    "df_booked = pd.DataFrame()\n",
    "df_not_booked = pd.DataFrame()\n",
    "train_data_booked = pd.DataFrame()\n",
    "train_data_not_booked = pd.DataFrame()"
   ]
  },
  {
   "cell_type": "markdown",
   "metadata": {},
   "source": [
    "Adding New Features"
   ]
  },
  {
   "cell_type": "markdown",
   "metadata": {},
   "source": [
    "Merging Comp Stats across all rows"
   ]
  },
  {
   "cell_type": "code",
   "execution_count": 13,
   "metadata": {},
   "outputs": [
    {
     "ename": "KeyboardInterrupt",
     "evalue": "",
     "output_type": "error",
     "traceback": [
      "\u001b[0;31m---------------------------------------------------------------------------\u001b[0m",
      "\u001b[0;31mAttributeError\u001b[0m                            Traceback (most recent call last)",
      "File \u001b[0;32m~/Documents/dmt_assignment/dmt_py_env/lib/python3.8/site-packages/pandas/core/generic.py:5587\u001b[0m, in \u001b[0;36mNDFrame.__setattr__\u001b[0;34m(self, name, value)\u001b[0m\n\u001b[1;32m   <a href='file:///home/sunnysoni/Documents/dmt_assignment/dmt_py_env/lib/python3.8/site-packages/pandas/core/generic.py?line=5585'>5586</a>\u001b[0m \u001b[39mtry\u001b[39;00m:\n\u001b[0;32m-> <a href='file:///home/sunnysoni/Documents/dmt_assignment/dmt_py_env/lib/python3.8/site-packages/pandas/core/generic.py?line=5586'>5587</a>\u001b[0m     \u001b[39mobject\u001b[39;49m\u001b[39m.\u001b[39;49m\u001b[39m__getattribute__\u001b[39;49m(\u001b[39mself\u001b[39;49m, name)\n\u001b[1;32m   <a href='file:///home/sunnysoni/Documents/dmt_assignment/dmt_py_env/lib/python3.8/site-packages/pandas/core/generic.py?line=5587'>5588</a>\u001b[0m     \u001b[39mreturn\u001b[39;00m \u001b[39mobject\u001b[39m\u001b[39m.\u001b[39m\u001b[39m__setattr__\u001b[39m(\u001b[39mself\u001b[39m, name, value)\n",
      "File \u001b[0;32m~/Documents/dmt_assignment/dmt_py_env/lib/python3.8/site-packages/pandas/core/series.py:638\u001b[0m, in \u001b[0;36mSeries.name\u001b[0;34m(self)\u001b[0m\n\u001b[1;32m    <a href='file:///home/sunnysoni/Documents/dmt_assignment/dmt_py_env/lib/python3.8/site-packages/pandas/core/series.py?line=591'>592</a>\u001b[0m \u001b[39m\"\"\"\u001b[39;00m\n\u001b[1;32m    <a href='file:///home/sunnysoni/Documents/dmt_assignment/dmt_py_env/lib/python3.8/site-packages/pandas/core/series.py?line=592'>593</a>\u001b[0m \u001b[39mReturn the name of the Series.\u001b[39;00m\n\u001b[1;32m    <a href='file:///home/sunnysoni/Documents/dmt_assignment/dmt_py_env/lib/python3.8/site-packages/pandas/core/series.py?line=593'>594</a>\u001b[0m \n\u001b[0;32m   (...)\u001b[0m\n\u001b[1;32m    <a href='file:///home/sunnysoni/Documents/dmt_assignment/dmt_py_env/lib/python3.8/site-packages/pandas/core/series.py?line=635'>636</a>\u001b[0m \u001b[39m'Even Numbers'\u001b[39;00m\n\u001b[1;32m    <a href='file:///home/sunnysoni/Documents/dmt_assignment/dmt_py_env/lib/python3.8/site-packages/pandas/core/series.py?line=636'>637</a>\u001b[0m \u001b[39m\"\"\"\u001b[39;00m\n\u001b[0;32m--> <a href='file:///home/sunnysoni/Documents/dmt_assignment/dmt_py_env/lib/python3.8/site-packages/pandas/core/series.py?line=637'>638</a>\u001b[0m \u001b[39mreturn\u001b[39;00m \u001b[39mself\u001b[39;49m\u001b[39m.\u001b[39;49m_name\n",
      "File \u001b[0;32m~/Documents/dmt_assignment/dmt_py_env/lib/python3.8/site-packages/pandas/core/generic.py:5575\u001b[0m, in \u001b[0;36mNDFrame.__getattr__\u001b[0;34m(self, name)\u001b[0m\n\u001b[1;32m   <a href='file:///home/sunnysoni/Documents/dmt_assignment/dmt_py_env/lib/python3.8/site-packages/pandas/core/generic.py?line=5573'>5574</a>\u001b[0m     \u001b[39mreturn\u001b[39;00m \u001b[39mself\u001b[39m[name]\n\u001b[0;32m-> <a href='file:///home/sunnysoni/Documents/dmt_assignment/dmt_py_env/lib/python3.8/site-packages/pandas/core/generic.py?line=5574'>5575</a>\u001b[0m \u001b[39mreturn\u001b[39;00m \u001b[39mobject\u001b[39;49m\u001b[39m.\u001b[39;49m\u001b[39m__getattribute__\u001b[39;49m(\u001b[39mself\u001b[39;49m, name)\n",
      "\u001b[0;31mAttributeError\u001b[0m: 'Series' object has no attribute '_name'",
      "\nDuring handling of the above exception, another exception occurred:\n",
      "\u001b[0;31mKeyboardInterrupt\u001b[0m                         Traceback (most recent call last)",
      "\u001b[1;32m/home/sunnysoni/Documents/dmt_assignment/DMT_Asg_2/preprocess.ipynb Cell 17'\u001b[0m in \u001b[0;36m<cell line: 1>\u001b[0;34m()\u001b[0m\n\u001b[0;32m----> <a href='vscode-notebook-cell:/home/sunnysoni/Documents/dmt_assignment/DMT_Asg_2/preprocess.ipynb#ch0000015?line=0'>1</a>\u001b[0m train_data \u001b[39m=\u001b[39m prep\u001b[39m.\u001b[39;49mmergeCompsAll(train_data)\n\u001b[1;32m      <a href='vscode-notebook-cell:/home/sunnysoni/Documents/dmt_assignment/DMT_Asg_2/preprocess.ipynb#ch0000015?line=1'>2</a>\u001b[0m train_data \u001b[39m=\u001b[39m prep\u001b[39m.\u001b[39mfill_comp_rate(train_data)\n\u001b[1;32m      <a href='vscode-notebook-cell:/home/sunnysoni/Documents/dmt_assignment/DMT_Asg_2/preprocess.ipynb#ch0000015?line=2'>3</a>\u001b[0m train_data \u001b[39m=\u001b[39m prep\u001b[39m.\u001b[39mfill_comp_inv(train_data)\n",
      "File \u001b[0;32m~/Documents/dmt_assignment/DMT_Asg_2/functions/preprocessing.py:54\u001b[0m, in \u001b[0;36mmergeCompsAll\u001b[0;34m(dataFrame)\u001b[0m\n\u001b[1;32m     <a href='file:///home/sunnysoni/Documents/dmt_assignment/DMT_Asg_2/functions/preprocessing.py?line=51'>52</a>\u001b[0m inv_slice \u001b[39m=\u001b[39m out_df[inv_cols]\n\u001b[1;32m     <a href='file:///home/sunnysoni/Documents/dmt_assignment/DMT_Asg_2/functions/preprocessing.py?line=52'>53</a>\u001b[0m rate_per_slice \u001b[39m=\u001b[39m out_df[rate_per_cols]\n\u001b[0;32m---> <a href='file:///home/sunnysoni/Documents/dmt_assignment/DMT_Asg_2/functions/preprocessing.py?line=53'>54</a>\u001b[0m out_df[\u001b[39m'\u001b[39m\u001b[39mcomp_rate\u001b[39m\u001b[39m'\u001b[39m] \u001b[39m=\u001b[39m rate_slice\u001b[39m.\u001b[39;49mmode(axis\u001b[39m=\u001b[39;49m\u001b[39m1\u001b[39;49m,numeric_only\u001b[39m=\u001b[39;49m\u001b[39mTrue\u001b[39;49;00m,dropna\u001b[39m=\u001b[39;49m\u001b[39mTrue\u001b[39;49;00m)\u001b[39m.\u001b[39miloc[:,\u001b[39m0\u001b[39m]\n\u001b[1;32m     <a href='file:///home/sunnysoni/Documents/dmt_assignment/DMT_Asg_2/functions/preprocessing.py?line=54'>55</a>\u001b[0m out_df[\u001b[39m'\u001b[39m\u001b[39mcomp_inv\u001b[39m\u001b[39m'\u001b[39m] \u001b[39m=\u001b[39m inv_slice\u001b[39m.\u001b[39mmode(axis\u001b[39m=\u001b[39m\u001b[39m1\u001b[39m,numeric_only\u001b[39m=\u001b[39m\u001b[39mTrue\u001b[39;00m,dropna\u001b[39m=\u001b[39m\u001b[39mTrue\u001b[39;00m)\u001b[39m.\u001b[39miloc[:,\u001b[39m0\u001b[39m]\n\u001b[1;32m     <a href='file:///home/sunnysoni/Documents/dmt_assignment/DMT_Asg_2/functions/preprocessing.py?line=55'>56</a>\u001b[0m out_df[\u001b[39m'\u001b[39m\u001b[39mcomp_rate_percent_diff\u001b[39m\u001b[39m'\u001b[39m] \u001b[39m=\u001b[39m rate_per_slice\u001b[39m.\u001b[39mmean(axis\u001b[39m=\u001b[39m\u001b[39m1\u001b[39m, numeric_only\u001b[39m=\u001b[39m\u001b[39mTrue\u001b[39;00m, skipna\u001b[39m=\u001b[39m\u001b[39mTrue\u001b[39;00m)\n",
      "File \u001b[0;32m~/Documents/dmt_assignment/dmt_py_env/lib/python3.8/site-packages/pandas/core/frame.py:10401\u001b[0m, in \u001b[0;36mDataFrame.mode\u001b[0;34m(self, axis, numeric_only, dropna)\u001b[0m\n\u001b[1;32m  <a href='file:///home/sunnysoni/Documents/dmt_assignment/dmt_py_env/lib/python3.8/site-packages/pandas/core/frame.py?line=10397'>10398</a>\u001b[0m \u001b[39mdef\u001b[39;00m \u001b[39mf\u001b[39m(s):\n\u001b[1;32m  <a href='file:///home/sunnysoni/Documents/dmt_assignment/dmt_py_env/lib/python3.8/site-packages/pandas/core/frame.py?line=10398'>10399</a>\u001b[0m     \u001b[39mreturn\u001b[39;00m s\u001b[39m.\u001b[39mmode(dropna\u001b[39m=\u001b[39mdropna)\n\u001b[0;32m> <a href='file:///home/sunnysoni/Documents/dmt_assignment/dmt_py_env/lib/python3.8/site-packages/pandas/core/frame.py?line=10400'>10401</a>\u001b[0m data \u001b[39m=\u001b[39m data\u001b[39m.\u001b[39;49mapply(f, axis\u001b[39m=\u001b[39;49maxis)\n\u001b[1;32m  <a href='file:///home/sunnysoni/Documents/dmt_assignment/dmt_py_env/lib/python3.8/site-packages/pandas/core/frame.py?line=10401'>10402</a>\u001b[0m \u001b[39m# Ensure index is type stable (should always use int index)\u001b[39;00m\n\u001b[1;32m  <a href='file:///home/sunnysoni/Documents/dmt_assignment/dmt_py_env/lib/python3.8/site-packages/pandas/core/frame.py?line=10402'>10403</a>\u001b[0m \u001b[39mif\u001b[39;00m data\u001b[39m.\u001b[39mempty:\n",
      "File \u001b[0;32m~/Documents/dmt_assignment/dmt_py_env/lib/python3.8/site-packages/pandas/core/frame.py:8839\u001b[0m, in \u001b[0;36mDataFrame.apply\u001b[0;34m(self, func, axis, raw, result_type, args, **kwargs)\u001b[0m\n\u001b[1;32m   <a href='file:///home/sunnysoni/Documents/dmt_assignment/dmt_py_env/lib/python3.8/site-packages/pandas/core/frame.py?line=8827'>8828</a>\u001b[0m \u001b[39mfrom\u001b[39;00m \u001b[39mpandas\u001b[39;00m\u001b[39m.\u001b[39;00m\u001b[39mcore\u001b[39;00m\u001b[39m.\u001b[39;00m\u001b[39mapply\u001b[39;00m \u001b[39mimport\u001b[39;00m frame_apply\n\u001b[1;32m   <a href='file:///home/sunnysoni/Documents/dmt_assignment/dmt_py_env/lib/python3.8/site-packages/pandas/core/frame.py?line=8829'>8830</a>\u001b[0m op \u001b[39m=\u001b[39m frame_apply(\n\u001b[1;32m   <a href='file:///home/sunnysoni/Documents/dmt_assignment/dmt_py_env/lib/python3.8/site-packages/pandas/core/frame.py?line=8830'>8831</a>\u001b[0m     \u001b[39mself\u001b[39m,\n\u001b[1;32m   <a href='file:///home/sunnysoni/Documents/dmt_assignment/dmt_py_env/lib/python3.8/site-packages/pandas/core/frame.py?line=8831'>8832</a>\u001b[0m     func\u001b[39m=\u001b[39mfunc,\n\u001b[0;32m   (...)\u001b[0m\n\u001b[1;32m   <a href='file:///home/sunnysoni/Documents/dmt_assignment/dmt_py_env/lib/python3.8/site-packages/pandas/core/frame.py?line=8836'>8837</a>\u001b[0m     kwargs\u001b[39m=\u001b[39mkwargs,\n\u001b[1;32m   <a href='file:///home/sunnysoni/Documents/dmt_assignment/dmt_py_env/lib/python3.8/site-packages/pandas/core/frame.py?line=8837'>8838</a>\u001b[0m )\n\u001b[0;32m-> <a href='file:///home/sunnysoni/Documents/dmt_assignment/dmt_py_env/lib/python3.8/site-packages/pandas/core/frame.py?line=8838'>8839</a>\u001b[0m \u001b[39mreturn\u001b[39;00m op\u001b[39m.\u001b[39;49mapply()\u001b[39m.\u001b[39m__finalize__(\u001b[39mself\u001b[39m, method\u001b[39m=\u001b[39m\u001b[39m\"\u001b[39m\u001b[39mapply\u001b[39m\u001b[39m\"\u001b[39m)\n",
      "File \u001b[0;32m~/Documents/dmt_assignment/dmt_py_env/lib/python3.8/site-packages/pandas/core/apply.py:727\u001b[0m, in \u001b[0;36mFrameApply.apply\u001b[0;34m(self)\u001b[0m\n\u001b[1;32m    <a href='file:///home/sunnysoni/Documents/dmt_assignment/dmt_py_env/lib/python3.8/site-packages/pandas/core/apply.py?line=723'>724</a>\u001b[0m \u001b[39melif\u001b[39;00m \u001b[39mself\u001b[39m\u001b[39m.\u001b[39mraw:\n\u001b[1;32m    <a href='file:///home/sunnysoni/Documents/dmt_assignment/dmt_py_env/lib/python3.8/site-packages/pandas/core/apply.py?line=724'>725</a>\u001b[0m     \u001b[39mreturn\u001b[39;00m \u001b[39mself\u001b[39m\u001b[39m.\u001b[39mapply_raw()\n\u001b[0;32m--> <a href='file:///home/sunnysoni/Documents/dmt_assignment/dmt_py_env/lib/python3.8/site-packages/pandas/core/apply.py?line=726'>727</a>\u001b[0m \u001b[39mreturn\u001b[39;00m \u001b[39mself\u001b[39;49m\u001b[39m.\u001b[39;49mapply_standard()\n",
      "File \u001b[0;32m~/Documents/dmt_assignment/dmt_py_env/lib/python3.8/site-packages/pandas/core/apply.py:851\u001b[0m, in \u001b[0;36mFrameApply.apply_standard\u001b[0;34m(self)\u001b[0m\n\u001b[1;32m    <a href='file:///home/sunnysoni/Documents/dmt_assignment/dmt_py_env/lib/python3.8/site-packages/pandas/core/apply.py?line=849'>850</a>\u001b[0m \u001b[39mdef\u001b[39;00m \u001b[39mapply_standard\u001b[39m(\u001b[39mself\u001b[39m):\n\u001b[0;32m--> <a href='file:///home/sunnysoni/Documents/dmt_assignment/dmt_py_env/lib/python3.8/site-packages/pandas/core/apply.py?line=850'>851</a>\u001b[0m     results, res_index \u001b[39m=\u001b[39m \u001b[39mself\u001b[39;49m\u001b[39m.\u001b[39;49mapply_series_generator()\n\u001b[1;32m    <a href='file:///home/sunnysoni/Documents/dmt_assignment/dmt_py_env/lib/python3.8/site-packages/pandas/core/apply.py?line=852'>853</a>\u001b[0m     \u001b[39m# wrap results\u001b[39;00m\n\u001b[1;32m    <a href='file:///home/sunnysoni/Documents/dmt_assignment/dmt_py_env/lib/python3.8/site-packages/pandas/core/apply.py?line=853'>854</a>\u001b[0m     \u001b[39mreturn\u001b[39;00m \u001b[39mself\u001b[39m\u001b[39m.\u001b[39mwrap_results(results, res_index)\n",
      "File \u001b[0;32m~/Documents/dmt_assignment/dmt_py_env/lib/python3.8/site-packages/pandas/core/apply.py:867\u001b[0m, in \u001b[0;36mFrameApply.apply_series_generator\u001b[0;34m(self)\u001b[0m\n\u001b[1;32m    <a href='file:///home/sunnysoni/Documents/dmt_assignment/dmt_py_env/lib/python3.8/site-packages/pandas/core/apply.py?line=863'>864</a>\u001b[0m \u001b[39mwith\u001b[39;00m option_context(\u001b[39m\"\u001b[39m\u001b[39mmode.chained_assignment\u001b[39m\u001b[39m\"\u001b[39m, \u001b[39mNone\u001b[39;00m):\n\u001b[1;32m    <a href='file:///home/sunnysoni/Documents/dmt_assignment/dmt_py_env/lib/python3.8/site-packages/pandas/core/apply.py?line=864'>865</a>\u001b[0m     \u001b[39mfor\u001b[39;00m i, v \u001b[39min\u001b[39;00m \u001b[39menumerate\u001b[39m(series_gen):\n\u001b[1;32m    <a href='file:///home/sunnysoni/Documents/dmt_assignment/dmt_py_env/lib/python3.8/site-packages/pandas/core/apply.py?line=865'>866</a>\u001b[0m         \u001b[39m# ignore SettingWithCopy here in case the user mutates\u001b[39;00m\n\u001b[0;32m--> <a href='file:///home/sunnysoni/Documents/dmt_assignment/dmt_py_env/lib/python3.8/site-packages/pandas/core/apply.py?line=866'>867</a>\u001b[0m         results[i] \u001b[39m=\u001b[39m \u001b[39mself\u001b[39;49m\u001b[39m.\u001b[39;49mf(v)\n\u001b[1;32m    <a href='file:///home/sunnysoni/Documents/dmt_assignment/dmt_py_env/lib/python3.8/site-packages/pandas/core/apply.py?line=867'>868</a>\u001b[0m         \u001b[39mif\u001b[39;00m \u001b[39misinstance\u001b[39m(results[i], ABCSeries):\n\u001b[1;32m    <a href='file:///home/sunnysoni/Documents/dmt_assignment/dmt_py_env/lib/python3.8/site-packages/pandas/core/apply.py?line=868'>869</a>\u001b[0m             \u001b[39m# If we have a view on v, we need to make a copy because\u001b[39;00m\n\u001b[1;32m    <a href='file:///home/sunnysoni/Documents/dmt_assignment/dmt_py_env/lib/python3.8/site-packages/pandas/core/apply.py?line=869'>870</a>\u001b[0m             \u001b[39m#  series_generator will swap out the underlying data\u001b[39;00m\n\u001b[1;32m    <a href='file:///home/sunnysoni/Documents/dmt_assignment/dmt_py_env/lib/python3.8/site-packages/pandas/core/apply.py?line=870'>871</a>\u001b[0m             results[i] \u001b[39m=\u001b[39m results[i]\u001b[39m.\u001b[39mcopy(deep\u001b[39m=\u001b[39m\u001b[39mFalse\u001b[39;00m)\n",
      "File \u001b[0;32m~/Documents/dmt_assignment/dmt_py_env/lib/python3.8/site-packages/pandas/core/frame.py:10399\u001b[0m, in \u001b[0;36mDataFrame.mode.<locals>.f\u001b[0;34m(s)\u001b[0m\n\u001b[1;32m  <a href='file:///home/sunnysoni/Documents/dmt_assignment/dmt_py_env/lib/python3.8/site-packages/pandas/core/frame.py?line=10397'>10398</a>\u001b[0m \u001b[39mdef\u001b[39;00m \u001b[39mf\u001b[39m(s):\n\u001b[0;32m> <a href='file:///home/sunnysoni/Documents/dmt_assignment/dmt_py_env/lib/python3.8/site-packages/pandas/core/frame.py?line=10398'>10399</a>\u001b[0m     \u001b[39mreturn\u001b[39;00m s\u001b[39m.\u001b[39;49mmode(dropna\u001b[39m=\u001b[39;49mdropna)\n",
      "File \u001b[0;32m~/Documents/dmt_assignment/dmt_py_env/lib/python3.8/site-packages/pandas/core/series.py:2026\u001b[0m, in \u001b[0;36mSeries.mode\u001b[0;34m(self, dropna)\u001b[0m\n\u001b[1;32m   <a href='file:///home/sunnysoni/Documents/dmt_assignment/dmt_py_env/lib/python3.8/site-packages/pandas/core/series.py?line=2022'>2023</a>\u001b[0m     res_values \u001b[39m=\u001b[39m values\u001b[39m.\u001b[39m_mode(dropna\u001b[39m=\u001b[39mdropna)\n\u001b[1;32m   <a href='file:///home/sunnysoni/Documents/dmt_assignment/dmt_py_env/lib/python3.8/site-packages/pandas/core/series.py?line=2024'>2025</a>\u001b[0m \u001b[39m# Ensure index is type stable (should always use int index)\u001b[39;00m\n\u001b[0;32m-> <a href='file:///home/sunnysoni/Documents/dmt_assignment/dmt_py_env/lib/python3.8/site-packages/pandas/core/series.py?line=2025'>2026</a>\u001b[0m \u001b[39mreturn\u001b[39;00m \u001b[39mself\u001b[39;49m\u001b[39m.\u001b[39;49m_constructor(\n\u001b[1;32m   <a href='file:///home/sunnysoni/Documents/dmt_assignment/dmt_py_env/lib/python3.8/site-packages/pandas/core/series.py?line=2026'>2027</a>\u001b[0m     res_values, index\u001b[39m=\u001b[39;49m\u001b[39mrange\u001b[39;49m(\u001b[39mlen\u001b[39;49m(res_values)), name\u001b[39m=\u001b[39;49m\u001b[39mself\u001b[39;49m\u001b[39m.\u001b[39;49mname\n\u001b[1;32m   <a href='file:///home/sunnysoni/Documents/dmt_assignment/dmt_py_env/lib/python3.8/site-packages/pandas/core/series.py?line=2027'>2028</a>\u001b[0m )\n",
      "File \u001b[0;32m~/Documents/dmt_assignment/dmt_py_env/lib/python3.8/site-packages/pandas/core/series.py:460\u001b[0m, in \u001b[0;36mSeries.__init__\u001b[0;34m(self, data, index, dtype, name, copy, fastpath)\u001b[0m\n\u001b[1;32m    <a href='file:///home/sunnysoni/Documents/dmt_assignment/dmt_py_env/lib/python3.8/site-packages/pandas/core/series.py?line=456'>457</a>\u001b[0m             data \u001b[39m=\u001b[39m SingleArrayManager\u001b[39m.\u001b[39mfrom_array(data, index)\n\u001b[1;32m    <a href='file:///home/sunnysoni/Documents/dmt_assignment/dmt_py_env/lib/python3.8/site-packages/pandas/core/series.py?line=458'>459</a>\u001b[0m NDFrame\u001b[39m.\u001b[39m\u001b[39m__init__\u001b[39m(\u001b[39mself\u001b[39m, data)\n\u001b[0;32m--> <a href='file:///home/sunnysoni/Documents/dmt_assignment/dmt_py_env/lib/python3.8/site-packages/pandas/core/series.py?line=459'>460</a>\u001b[0m \u001b[39mself\u001b[39m\u001b[39m.\u001b[39mname \u001b[39m=\u001b[39m name\n\u001b[1;32m    <a href='file:///home/sunnysoni/Documents/dmt_assignment/dmt_py_env/lib/python3.8/site-packages/pandas/core/series.py?line=460'>461</a>\u001b[0m \u001b[39mself\u001b[39m\u001b[39m.\u001b[39m_set_axis(\u001b[39m0\u001b[39m, index, fastpath\u001b[39m=\u001b[39m\u001b[39mTrue\u001b[39;00m)\n",
      "File \u001b[0;32m~/Documents/dmt_assignment/dmt_py_env/lib/python3.8/site-packages/pandas/core/generic.py:5587\u001b[0m, in \u001b[0;36mNDFrame.__setattr__\u001b[0;34m(self, name, value)\u001b[0m\n\u001b[1;32m   <a href='file:///home/sunnysoni/Documents/dmt_assignment/dmt_py_env/lib/python3.8/site-packages/pandas/core/generic.py?line=5581'>5582</a>\u001b[0m \u001b[39m# first try regular attribute access via __getattribute__, so that\u001b[39;00m\n\u001b[1;32m   <a href='file:///home/sunnysoni/Documents/dmt_assignment/dmt_py_env/lib/python3.8/site-packages/pandas/core/generic.py?line=5582'>5583</a>\u001b[0m \u001b[39m# e.g. ``obj.x`` and ``obj.x = 4`` will always reference/modify\u001b[39;00m\n\u001b[1;32m   <a href='file:///home/sunnysoni/Documents/dmt_assignment/dmt_py_env/lib/python3.8/site-packages/pandas/core/generic.py?line=5583'>5584</a>\u001b[0m \u001b[39m# the same attribute.\u001b[39;00m\n\u001b[1;32m   <a href='file:///home/sunnysoni/Documents/dmt_assignment/dmt_py_env/lib/python3.8/site-packages/pandas/core/generic.py?line=5585'>5586</a>\u001b[0m \u001b[39mtry\u001b[39;00m:\n\u001b[0;32m-> <a href='file:///home/sunnysoni/Documents/dmt_assignment/dmt_py_env/lib/python3.8/site-packages/pandas/core/generic.py?line=5586'>5587</a>\u001b[0m     \u001b[39mobject\u001b[39;49m\u001b[39m.\u001b[39;49m\u001b[39m__getattribute__\u001b[39;49m(\u001b[39mself\u001b[39;49m, name)\n\u001b[1;32m   <a href='file:///home/sunnysoni/Documents/dmt_assignment/dmt_py_env/lib/python3.8/site-packages/pandas/core/generic.py?line=5587'>5588</a>\u001b[0m     \u001b[39mreturn\u001b[39;00m \u001b[39mobject\u001b[39m\u001b[39m.\u001b[39m\u001b[39m__setattr__\u001b[39m(\u001b[39mself\u001b[39m, name, value)\n\u001b[1;32m   <a href='file:///home/sunnysoni/Documents/dmt_assignment/dmt_py_env/lib/python3.8/site-packages/pandas/core/generic.py?line=5588'>5589</a>\u001b[0m \u001b[39mexcept\u001b[39;00m \u001b[39mAttributeError\u001b[39;00m:\n",
      "\u001b[0;31mKeyboardInterrupt\u001b[0m: "
     ]
    }
   ],
   "source": [
    "train_data = prep.mergeCompsAll(train_data)\n",
    "train_data = prep.fill_comp_rate(train_data)\n",
    "train_data = prep.fill_comp_inv(train_data)\n",
    "train_data = prep.fill_rate_diff(train_data)\n",
    "train_data.head()"
   ]
  },
  {
   "cell_type": "markdown",
   "metadata": {},
   "source": [
    "Adding Relevancy Column"
   ]
  },
  {
   "cell_type": "code",
   "execution_count": null,
   "metadata": {},
   "outputs": [],
   "source": [
    "conditions = [\n",
    "    (train_data['booking_bool'] == 1),\n",
    "    (train_data['click_bool'] == 1 ) & (train_data['booking_bool'] == 0),\n",
    "    (train_data['click_bool'] == 0),\n",
    "    ]\n",
    "values = ['5', '1', '0']\n",
    "train_data['relevancy'] = np.select(conditions, values)\n",
    "train_data['relevancy'] = train_data['relevancy'].astype('category')\n",
    "\n",
    "train_data['relevancy'].value_counts()"
   ]
  },
  {
   "cell_type": "markdown",
   "metadata": {},
   "source": [
    "Adding Visitor+Prop same country Column"
   ]
  },
  {
   "cell_type": "code",
   "execution_count": null,
   "metadata": {},
   "outputs": [],
   "source": [
    "conditions = [\n",
    "    (train_data['visitor_location_country_id'] == train_data['prop_country_id']),\n",
    "    (train_data['visitor_location_country_id'] != train_data['prop_country_id'])\n",
    "]\n",
    "\n",
    "values = ['1','0']\n",
    "train_data['same_country'] = np.select(conditions,values)\n",
    "\n",
    "train_data['same_country'].value_counts()"
   ]
  },
  {
   "cell_type": "markdown",
   "metadata": {},
   "source": [
    "Selecting Features required for training in output csv"
   ]
  },
  {
   "cell_type": "code",
   "execution_count": null,
   "metadata": {},
   "outputs": [],
   "source": [
    "columns_to_output = ['prop_starrating','prop_review_score', 'prop_brand_bool','prop_location_score2','prop_log_historical_price','promotion_flag','random_bool', 'comp_rate', 'comp_inv', 'comp_rate_percent_diff','same_country','relevancy']\n",
    "\n",
    "train_data = train_data[columns_to_output]\n",
    "\n",
    "train_data.fillna({'prop_review_score':train_data['prop_review_score'].mean()},inplace=True)\n",
    "train_data.fillna({'prop_location_score2':train_data['prop_location_score2'].mean()},inplace=True)\n",
    "\n",
    "\n",
    "train_data.head()"
   ]
  },
  {
   "cell_type": "markdown",
   "metadata": {},
   "source": [
    "Outputting to disk"
   ]
  },
  {
   "cell_type": "code",
   "execution_count": null,
   "metadata": {},
   "outputs": [],
   "source": [
    "out_path = os.path.join(os.getcwd(),'data/train_data.csv')\n",
    "train_data.to_csv(path_or_buf=out_path)"
   ]
  },
  {
   "cell_type": "code",
   "execution_count": null,
   "metadata": {},
   "outputs": [],
   "source": [
    "del[[train_data]]\n",
    "gc.collect()\n",
    "train_data = pd.DataFrame()"
   ]
  },
  {
   "cell_type": "markdown",
   "metadata": {},
   "source": [
    "Preprocessing Test Data Set"
   ]
  },
  {
   "cell_type": "code",
   "execution_count": null,
   "metadata": {},
   "outputs": [],
   "source": [
    "test_set_path = os.path.join(os.getcwd(),'data/test_set_VU_DM.csv')\n",
    "\n",
    "no_of_test_rows = 10000000\n",
    "\n",
    "test_df_og = pd.read_csv(test_set_path,chunksize=no_of_test_rows)\n",
    "\n",
    "test_df_og = test_df_og.get_chunk(no_of_test_rows)\n",
    "\n",
    "test_df_og.head()"
   ]
  },
  {
   "cell_type": "markdown",
   "metadata": {},
   "source": [
    "Adding New Features (same as training set)"
   ]
  },
  {
   "cell_type": "code",
   "execution_count": null,
   "metadata": {},
   "outputs": [],
   "source": [
    "test_data = prep.mergeCompsAll(test_df_og)\n",
    "test_data = prep.fill_comp_rate(test_data)\n",
    "test_data = prep.fill_comp_inv(test_data)\n",
    "test_data = prep.fill_rate_diff(test_data)\n",
    "test_data.head()"
   ]
  },
  {
   "cell_type": "code",
   "execution_count": null,
   "metadata": {},
   "outputs": [],
   "source": [
    "del[[test_df_og]]\n",
    "gc.collect()\n",
    "test_df_og = pd.DataFrame()"
   ]
  },
  {
   "cell_type": "code",
   "execution_count": null,
   "metadata": {},
   "outputs": [],
   "source": [
    "conditions = [\n",
    "    (test_data['visitor_location_country_id'] == test_data['prop_country_id']),\n",
    "    (test_data['visitor_location_country_id'] != test_data['prop_country_id'])\n",
    "]\n",
    "\n",
    "values = ['1','0']\n",
    "test_data['same_country'] = np.select(conditions,values)\n",
    "\n",
    "test_data['same_country'].value_counts()"
   ]
  },
  {
   "cell_type": "markdown",
   "metadata": {},
   "source": [
    "Selecting Features for final test set"
   ]
  },
  {
   "cell_type": "code",
   "execution_count": null,
   "metadata": {},
   "outputs": [],
   "source": [
    "columns_to_output = ['srch_id','prop_id','prop_starrating','prop_review_score', 'prop_brand_bool','prop_location_score2','prop_log_historical_price','promotion_flag','random_bool', 'comp_rate', 'comp_inv', 'comp_rate_percent_diff','same_country']\n",
    "\n",
    "test_data = test_data[columns_to_output]\n",
    "\n",
    "test_data.fillna({'prop_review_score':test_data['prop_review_score'].mean()},inplace=True)\n",
    "test_data.fillna({'prop_location_score2':test_data['prop_location_score2'].mean()},inplace=True)\n",
    "\n",
    "\n",
    "test_data.head()"
   ]
  },
  {
   "cell_type": "markdown",
   "metadata": {},
   "source": [
    "Outputting to disk"
   ]
  },
  {
   "cell_type": "code",
   "execution_count": null,
   "metadata": {},
   "outputs": [],
   "source": [
    "out_path = os.path.join(os.getcwd(),'data/test_data.csv')\n",
    "test_data.to_csv(path_or_buf=out_path)"
   ]
  }
 ],
 "metadata": {
  "interpreter": {
   "hash": "c5c8082da82be54279a88874e79277ed4c9bfc93c4811a87cbd0d0ff82e4568e"
  },
  "kernelspec": {
   "display_name": "Python 3.8.10 ('dmt_py_env': venv)",
   "language": "python",
   "name": "python3"
  },
  "language_info": {
   "codemirror_mode": {
    "name": "ipython",
    "version": 3
   },
   "file_extension": ".py",
   "mimetype": "text/x-python",
   "name": "python",
   "nbconvert_exporter": "python",
   "pygments_lexer": "ipython3",
   "version": "3.8.10"
  },
  "orig_nbformat": 4
 },
 "nbformat": 4,
 "nbformat_minor": 2
}

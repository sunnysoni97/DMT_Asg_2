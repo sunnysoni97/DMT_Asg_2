{
 "cells": [
  {
   "cell_type": "code",
   "execution_count": null,
   "metadata": {},
   "outputs": [],
   "source": [
    "import pandas as pd\n",
    "import os\n",
    "import gc"
   ]
  },
  {
   "cell_type": "markdown",
   "metadata": {},
   "source": [
    "Splitting training data for local training/validation"
   ]
  },
  {
   "cell_type": "code",
   "execution_count": null,
   "metadata": {},
   "outputs": [],
   "source": [
    "def split_train(train_file_full:pd.DataFrame,size_test:int=10):\n",
    "    len_train = len(train_file_full)\n",
    "    train_split_path = os.path.join(os.getcwd(),'data/train_data_split.csv')\n",
    "    test_split_path = os.path.join(os.getcwd(),'data/test_data_split.csv')\n",
    "\n",
    "    len_train = int((100-size_test)/100*len_train)\n",
    "    df_train = train_file_full[:len_train]\n",
    "    df_test = train_file_full[len_train:]\n",
    "\n",
    "    df_train.to_csv(path_or_buf=train_split_path,index=False)\n",
    "    df_test.to_csv(path_or_buf=test_split_path,index=False)\n",
    "\n",
    "\n",
    "do_split = False\n",
    "\n",
    "if(do_split):\n",
    "    train_file_path = os.path.join(os.getcwd(),'data/training_set_VU_DM.csv')\n",
    "    train_file_full = pd.read_csv(train_file_path)\n",
    "    train_file_full.head()\n",
    "    split_train(train_file_full)\n",
    "    train_file_full = pd.DataFrame()\n",
    "    gc.collect()"
   ]
  },
  {
   "cell_type": "markdown",
   "metadata": {},
   "source": [
    "Preparing training data for algorithms"
   ]
  },
  {
   "cell_type": "code",
   "execution_count": null,
   "metadata": {},
   "outputs": [],
   "source": [
    "use_split = False\n",
    "\n",
    "if(use_split):\n",
    "    train_file_path = os.path.join(os.getcwd(),'data/train_data_split.csv')\n",
    "else:\n",
    "    train_file_path = os.path.join(os.getcwd(),'data/training_set_VU_DM.csv')\n",
    "\n",
    "train_df = pd.read_csv(train_file_path)\n",
    "train_df.head()"
   ]
  },
  {
   "cell_type": "code",
   "execution_count": null,
   "metadata": {},
   "outputs": [],
   "source": [
    "train_data = train_df"
   ]
  },
  {
   "cell_type": "markdown",
   "metadata": {},
   "source": [
    "Balancing classes"
   ]
  },
  {
   "cell_type": "code",
   "execution_count": null,
   "metadata": {},
   "outputs": [],
   "source": [
    "book_and_clicked_grp = train_df[(train_df['booking_bool']==1) & (train_df['click_bool']==1)]\n",
    "clicked_grp = train_df[(train_df['booking_bool']==0) & (train_df['click_bool']==1)]\n",
    "nothing_grp = train_df[(train_df['booking_bool']==0) & (train_df['click_bool']==0)]\n",
    "\n",
    "size_most_rel = len(book_and_clicked_grp)\n",
    "size_rel = len(clicked_grp)\n",
    "size_least_rel = len(nothing_grp)\n",
    "\n",
    "print(size_most_rel, size_rel, size_least_rel)"
   ]
  },
  {
   "cell_type": "code",
   "execution_count": null,
   "metadata": {},
   "outputs": [],
   "source": [
    "sample_size_mr = size_most_rel\n",
    "sample_size_r = size_rel\n",
    "sample_size_lr = int(1.25*(sample_size_mr+sample_size_r))\n",
    "\n",
    "book_and_clicked_grp = book_and_clicked_grp.sample(sample_size_mr,random_state=7).reset_index(drop=True)\n",
    "clicked_grp = clicked_grp.sample(sample_size_r,random_state=7).reset_index(drop=True)\n",
    "nothing_grp = nothing_grp.sample(sample_size_lr,random_state=7).reset_index(drop=True)"
   ]
  },
  {
   "cell_type": "code",
   "execution_count": null,
   "metadata": {},
   "outputs": [],
   "source": [
    "train_data = pd.concat([book_and_clicked_grp,clicked_grp,nothing_grp]).reset_index(drop=True)\n",
    "train_data.sort_values(by='srch_id',ascending=True,inplace=True,ignore_index=True)\n",
    "\n",
    "book_and_clicked_grp = pd.DataFrame()\n",
    "clicked_grp = pd.DataFrame()\n",
    "nothing_grp = pd.DataFrame()\n",
    "\n",
    "gc.collect()\n",
    "\n",
    "\n",
    "print(len(train_data))\n",
    "train_data.head()"
   ]
  },
  {
   "cell_type": "markdown",
   "metadata": {},
   "source": [
    "Adding Relevancy Column"
   ]
  },
  {
   "cell_type": "code",
   "execution_count": null,
   "metadata": {},
   "outputs": [],
   "source": [
    "import numpy as np\n",
    "\n",
    "conditions = [\n",
    "    (train_data['booking_bool'] == 1),\n",
    "    (train_data['click_bool'] == 1 ) & (train_data['booking_bool'] == 0),\n",
    "    (train_data['click_bool'] == 0),\n",
    "    ]\n",
    "values = ['5', '1', '0']\n",
    "train_data['relevancy'] = np.select(conditions, values)\n",
    "train_data['relevancy'] = train_data['relevancy'].astype('category')\n",
    "\n",
    "train_data['relevancy'].value_counts()"
   ]
  },
  {
   "cell_type": "markdown",
   "metadata": {},
   "source": [
    "Selecting Required Features"
   ]
  },
  {
   "cell_type": "code",
   "execution_count": null,
   "metadata": {},
   "outputs": [],
   "source": [
    "feature_list = ['prop_starrating', 'prop_brand_bool', 'prop_location_score1', 'prop_log_historical_price', 'price_usd', 'promotion_flag', 'srch_length_of_stay', 'srch_booking_window', 'srch_adults_count', 'srch_children_count', 'srch_room_count', 'srch_saturday_night_bool', 'random_bool']"
   ]
  },
  {
   "cell_type": "code",
   "execution_count": null,
   "metadata": {},
   "outputs": [],
   "source": [
    "train_data = train_data[feature_list+['relevancy']]\n",
    "train_data.head()"
   ]
  },
  {
   "cell_type": "markdown",
   "metadata": {},
   "source": [
    "Outputting to disk"
   ]
  },
  {
   "cell_type": "code",
   "execution_count": null,
   "metadata": {},
   "outputs": [],
   "source": [
    "train_data_path = os.path.join(os.getcwd(),'data/train_data_rf.csv')\n",
    "train_data.to_csv(path_or_buf=train_data_path,index=False)"
   ]
  },
  {
   "cell_type": "code",
   "execution_count": null,
   "metadata": {},
   "outputs": [],
   "source": [
    "train_data = pd.DataFrame()\n",
    "train_df = pd.DataFrame()\n",
    "gc.collect()"
   ]
  },
  {
   "cell_type": "markdown",
   "metadata": {},
   "source": [
    "Preparing Local Test Data"
   ]
  },
  {
   "cell_type": "code",
   "execution_count": null,
   "metadata": {},
   "outputs": [],
   "source": [
    "prep_local_test = False"
   ]
  },
  {
   "cell_type": "code",
   "execution_count": null,
   "metadata": {},
   "outputs": [],
   "source": [
    "if(prep_local_test):\n",
    "\n",
    "    local_test_path = os.path.join(os.getcwd(),'data/test_data_split.csv')\n",
    "    test_data_local = pd.read_csv(local_test_path)\n",
    "\n",
    "    print(test_data_local.head())"
   ]
  },
  {
   "cell_type": "markdown",
   "metadata": {},
   "source": [
    "Adding Relevancy Column"
   ]
  },
  {
   "cell_type": "code",
   "execution_count": null,
   "metadata": {},
   "outputs": [],
   "source": [
    "if(prep_local_test):\n",
    "\n",
    "    conditions = [\n",
    "        (test_data_local['booking_bool'] == 1),\n",
    "        (test_data_local['click_bool'] == 1 ) & (test_data_local['booking_bool'] == 0),\n",
    "        (test_data_local['click_bool'] == 0),\n",
    "        ]\n",
    "    values = ['5', '1', '0']\n",
    "    test_data_local['relevancy'] = np.select(conditions, values)\n",
    "    test_data_local['relevancy'] = test_data_local['relevancy'].astype('category')\n",
    "\n",
    "    print(test_data_local['relevancy'].value_counts())"
   ]
  },
  {
   "cell_type": "markdown",
   "metadata": {},
   "source": [
    "Selecting Features and Outputting to Disk"
   ]
  },
  {
   "cell_type": "code",
   "execution_count": null,
   "metadata": {},
   "outputs": [],
   "source": [
    "if(prep_local_test):\n",
    "    test_data_local = test_data_local[feature_list+['relevancy','srch_id','prop_id']]\n",
    "    print(test_data_local.head())"
   ]
  },
  {
   "cell_type": "code",
   "execution_count": null,
   "metadata": {},
   "outputs": [],
   "source": [
    "if(prep_local_test):\n",
    "    test_data_local_path = os.path.join(os.getcwd(),'data/test_data_rf_local.csv')\n",
    "    test_data_local.to_csv(path_or_buf=test_data_local_path,index=False)\n",
    "\n",
    "    test_data_local = pd.DataFrame()\n",
    "    gc.collect()"
   ]
  },
  {
   "cell_type": "markdown",
   "metadata": {},
   "source": [
    "Processing Kaggle Test file for prediction"
   ]
  },
  {
   "cell_type": "code",
   "execution_count": null,
   "metadata": {},
   "outputs": [],
   "source": [
    "process_kaggle_file = False"
   ]
  },
  {
   "cell_type": "code",
   "execution_count": null,
   "metadata": {},
   "outputs": [],
   "source": [
    "if(process_kaggle_file):\n",
    "    kaggle_test_path = os.path.join(os.getcwd(),'data/test_set_VU_DM.csv')\n",
    "    kaggle_test_df = pd.read_csv(kaggle_test_path)\n",
    "    print(kaggle_test_df.head())"
   ]
  },
  {
   "cell_type": "code",
   "execution_count": null,
   "metadata": {},
   "outputs": [],
   "source": [
    "if(process_kaggle_file):\n",
    "    kaggle_test_df = kaggle_test_df[['srch_id','prop_id']+feature_list]\n",
    "    print(kaggle_test_df.head())"
   ]
  },
  {
   "cell_type": "code",
   "execution_count": null,
   "metadata": {},
   "outputs": [],
   "source": [
    "if(process_kaggle_file):\n",
    "    out_path = os.path.join(os.getcwd(),'data/test_data_rf.csv')\n",
    "    kaggle_test_df.to_csv(path_or_buf=out_path,index=False)\n",
    "\n",
    "    kaggle_test_df = pd.DataFrame()\n",
    "    gc.collect()"
   ]
  }
 ],
 "metadata": {
  "interpreter": {
   "hash": "c5c8082da82be54279a88874e79277ed4c9bfc93c4811a87cbd0d0ff82e4568e"
  },
  "kernelspec": {
   "display_name": "Python 3.8.10 ('dmt_py_env': venv)",
   "language": "python",
   "name": "python3"
  },
  "language_info": {
   "codemirror_mode": {
    "name": "ipython",
    "version": 3
   },
   "file_extension": ".py",
   "mimetype": "text/x-python",
   "name": "python",
   "nbconvert_exporter": "python",
   "pygments_lexer": "ipython3",
   "version": "3.8.10"
  },
  "orig_nbformat": 4
 },
 "nbformat": 4,
 "nbformat_minor": 2
}

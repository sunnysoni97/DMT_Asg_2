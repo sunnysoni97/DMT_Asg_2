{
 "cells": [
  {
   "cell_type": "code",
   "execution_count": 1,
   "metadata": {},
   "outputs": [
    {
     "name": "stdout",
     "output_type": "stream",
     "text": [
      "Note: you may need to restart the kernel to use updated packages.\n"
     ]
    }
   ],
   "source": [
    "%pip install -q sklearn matplotlib pandas dask[complete] joblib"
   ]
  },
  {
   "cell_type": "markdown",
   "metadata": {},
   "source": [
    "Importing the Training File"
   ]
  },
  {
   "cell_type": "code",
   "execution_count": 1,
   "metadata": {},
<<<<<<< HEAD
   "outputs": [
    {
     "data": {
      "text/html": [
       "<div>\n",
       "<style scoped>\n",
       "    .dataframe tbody tr th:only-of-type {\n",
       "        vertical-align: middle;\n",
       "    }\n",
       "\n",
       "    .dataframe tbody tr th {\n",
       "        vertical-align: top;\n",
       "    }\n",
       "\n",
       "    .dataframe thead th {\n",
       "        text-align: right;\n",
       "    }\n",
       "</style>\n",
       "<table border=\"1\" class=\"dataframe\">\n",
       "  <thead>\n",
       "    <tr style=\"text-align: right;\">\n",
       "      <th></th>\n",
       "      <th>site_id</th>\n",
       "      <th>visitor_location_country_id</th>\n",
       "      <th>prop_country_id</th>\n",
       "      <th>prop_starrating</th>\n",
       "      <th>prop_review_score</th>\n",
       "      <th>prop_brand_bool</th>\n",
       "      <th>prop_location_score1</th>\n",
       "      <th>prop_location_score2</th>\n",
       "      <th>prop_log_historical_price</th>\n",
       "      <th>promotion_flag</th>\n",
       "      <th>...</th>\n",
       "      <th>srch_adults_count</th>\n",
       "      <th>srch_children_count</th>\n",
       "      <th>srch_room_count</th>\n",
       "      <th>srch_saturday_night_bool</th>\n",
       "      <th>random_bool</th>\n",
       "      <th>comp_rate</th>\n",
       "      <th>comp_inv</th>\n",
       "      <th>comp_rate_percent_diff</th>\n",
       "      <th>same_country</th>\n",
       "      <th>relevancy</th>\n",
       "    </tr>\n",
       "  </thead>\n",
       "  <tbody>\n",
       "    <tr>\n",
       "      <th>0</th>\n",
       "      <td>12</td>\n",
       "      <td>187</td>\n",
       "      <td>219</td>\n",
       "      <td>2</td>\n",
       "      <td>3.0</td>\n",
       "      <td>1</td>\n",
       "      <td>2.20</td>\n",
       "      <td>0.0206</td>\n",
       "      <td>4.44</td>\n",
       "      <td>0</td>\n",
       "      <td>...</td>\n",
       "      <td>4</td>\n",
       "      <td>0</td>\n",
       "      <td>1</td>\n",
       "      <td>1</td>\n",
       "      <td>1</td>\n",
       "      <td>0.0</td>\n",
       "      <td>0.0</td>\n",
       "      <td>11.0</td>\n",
       "      <td>0</td>\n",
       "      <td>5</td>\n",
       "    </tr>\n",
       "    <tr>\n",
       "      <th>1</th>\n",
       "      <td>12</td>\n",
       "      <td>187</td>\n",
       "      <td>219</td>\n",
       "      <td>4</td>\n",
       "      <td>4.0</td>\n",
       "      <td>1</td>\n",
       "      <td>2.83</td>\n",
       "      <td>0.1028</td>\n",
       "      <td>5.15</td>\n",
       "      <td>0</td>\n",
       "      <td>...</td>\n",
       "      <td>4</td>\n",
       "      <td>0</td>\n",
       "      <td>1</td>\n",
       "      <td>1</td>\n",
       "      <td>1</td>\n",
       "      <td>0.0</td>\n",
       "      <td>0.0</td>\n",
       "      <td>0.0</td>\n",
       "      <td>0</td>\n",
       "      <td>0</td>\n",
       "    </tr>\n",
       "    <tr>\n",
       "      <th>2</th>\n",
       "      <td>12</td>\n",
       "      <td>187</td>\n",
       "      <td>219</td>\n",
       "      <td>3</td>\n",
       "      <td>4.0</td>\n",
       "      <td>1</td>\n",
       "      <td>2.30</td>\n",
       "      <td>0.0155</td>\n",
       "      <td>5.03</td>\n",
       "      <td>0</td>\n",
       "      <td>...</td>\n",
       "      <td>4</td>\n",
       "      <td>0</td>\n",
       "      <td>1</td>\n",
       "      <td>1</td>\n",
       "      <td>1</td>\n",
       "      <td>0.0</td>\n",
       "      <td>0.0</td>\n",
       "      <td>0.0</td>\n",
       "      <td>0</td>\n",
       "      <td>0</td>\n",
       "    </tr>\n",
       "    <tr>\n",
       "      <th>3</th>\n",
       "      <td>12</td>\n",
       "      <td>187</td>\n",
       "      <td>219</td>\n",
       "      <td>3</td>\n",
       "      <td>3.0</td>\n",
       "      <td>1</td>\n",
       "      <td>1.39</td>\n",
       "      <td>0.0038</td>\n",
       "      <td>4.80</td>\n",
       "      <td>0</td>\n",
       "      <td>...</td>\n",
       "      <td>4</td>\n",
       "      <td>0</td>\n",
       "      <td>1</td>\n",
       "      <td>1</td>\n",
       "      <td>1</td>\n",
       "      <td>0.0</td>\n",
       "      <td>0.0</td>\n",
       "      <td>0.0</td>\n",
       "      <td>0</td>\n",
       "      <td>0</td>\n",
       "    </tr>\n",
       "    <tr>\n",
       "      <th>4</th>\n",
       "      <td>12</td>\n",
       "      <td>187</td>\n",
       "      <td>219</td>\n",
       "      <td>3</td>\n",
       "      <td>3.5</td>\n",
       "      <td>1</td>\n",
       "      <td>2.20</td>\n",
       "      <td>0.0356</td>\n",
       "      <td>4.81</td>\n",
       "      <td>0</td>\n",
       "      <td>...</td>\n",
       "      <td>4</td>\n",
       "      <td>0</td>\n",
       "      <td>1</td>\n",
       "      <td>1</td>\n",
       "      <td>1</td>\n",
       "      <td>0.0</td>\n",
       "      <td>0.0</td>\n",
       "      <td>0.0</td>\n",
       "      <td>0</td>\n",
       "      <td>0</td>\n",
       "    </tr>\n",
       "  </tbody>\n",
       "</table>\n",
       "<p>5 rows × 23 columns</p>\n",
       "</div>"
      ],
      "text/plain": [
       "   site_id  visitor_location_country_id  prop_country_id  prop_starrating  \\\n",
       "0       12                          187              219                2   \n",
       "1       12                          187              219                4   \n",
       "2       12                          187              219                3   \n",
       "3       12                          187              219                3   \n",
       "4       12                          187              219                3   \n",
       "\n",
       "   prop_review_score  prop_brand_bool  prop_location_score1  \\\n",
       "0                3.0                1                  2.20   \n",
       "1                4.0                1                  2.83   \n",
       "2                4.0                1                  2.30   \n",
       "3                3.0                1                  1.39   \n",
       "4                3.5                1                  2.20   \n",
       "\n",
       "   prop_location_score2  prop_log_historical_price  promotion_flag  ...  \\\n",
       "0                0.0206                       4.44               0  ...   \n",
       "1                0.1028                       5.15               0  ...   \n",
       "2                0.0155                       5.03               0  ...   \n",
       "3                0.0038                       4.80               0  ...   \n",
       "4                0.0356                       4.81               0  ...   \n",
       "\n",
       "   srch_adults_count  srch_children_count  srch_room_count  \\\n",
       "0                  4                    0                1   \n",
       "1                  4                    0                1   \n",
       "2                  4                    0                1   \n",
       "3                  4                    0                1   \n",
       "4                  4                    0                1   \n",
       "\n",
       "   srch_saturday_night_bool  random_bool  comp_rate  comp_inv  \\\n",
       "0                         1            1        0.0       0.0   \n",
       "1                         1            1        0.0       0.0   \n",
       "2                         1            1        0.0       0.0   \n",
       "3                         1            1        0.0       0.0   \n",
       "4                         1            1        0.0       0.0   \n",
       "\n",
       "   comp_rate_percent_diff  same_country  relevancy  \n",
       "0                    11.0             0          5  \n",
       "1                     0.0             0          0  \n",
       "2                     0.0             0          0  \n",
       "3                     0.0             0          0  \n",
       "4                     0.0             0          0  \n",
       "\n",
       "[5 rows x 23 columns]"
      ]
     },
     "execution_count": 2,
     "metadata": {},
     "output_type": "execute_result"
    }
   ],
=======
   "outputs": [],
>>>>>>> 25e9aa95771227f51710321ff5796ba370b51c66
   "source": [
    "import pandas as pd\n",
    "import os\n",
    "import gc\n",
    "\n",
    "\n",
    "file_path = os.path.join(os.getcwd(),'data/train_data.csv') \n",
    "\n",
    "train_data = pd.read_csv(file_path,index_col=0)\n",
    "train_data.head()\n",
    "\n",
    "file_path = os.path.join(os.getcwd(),'data/test_data.csv') \n",
    "\n",
    "test_data = pd.read_csv(file_path,index_col=0)"
   ]
  },
  {
   "cell_type": "code",
   "execution_count": 5,
   "metadata": {},
   "outputs": [
    {
     "data": {
      "text/plain": [
<<<<<<< HEAD
       "665637"
=======
       "4959183"
>>>>>>> 25e9aa95771227f51710321ff5796ba370b51c66
      ]
     },
     "execution_count": 5,
     "metadata": {},
     "output_type": "execute_result"
    }
   ],
   "source": [
    "len(test_data)"
   ]
  },
  {
   "cell_type": "markdown",
   "metadata": {},
   "source": [
    "Transforming Train Data"
   ]
  },
  {
   "cell_type": "markdown",
   "metadata": {},
   "source": [
    "from sklearn.feature_extraction import FeatureHasher\n",
    "\n",
    "h = FeatureHasher(n_features=5,input_type='string')\n",
    "site_id_hashed = h.fit_transform(train_data['site_id'].astype(str))\n",
    "site_id_hashed = site_id_hashed.toarray()\n",
    "\n",
    "visitor_location_country_id_hashed = h.fit_transform(train_data['visitor_location_country_id'].astype(str))\n",
    "visitor_location_country_id_hashed = visitor_location_country_id_hashed.toarray()\n",
    "\n",
    "prop_country_id_hashed = h.fit_transform(train_data['prop_country_id'].astype(str))\n",
    "prop_country_id_hashed = prop_country_id_hashed.toarray()\n",
    "\n",
    "srch_destination_id_hashed = h.fit_transform(train_data['srch_destination_id'].astype(str))\n",
    "srch_destination_id_hashed = srch_destination_id_hashed.toarray()\n",
    "\n",
    "\n",
    "train_data = pd.concat([train_data,pd.DataFrame(site_id_hashed,columns=[f'site_id{i}' for i in range(5)])],axis=1)\n",
    "train_data = pd.concat([train_data,pd.DataFrame(visitor_location_country_id_hashed,columns=[f'visitor_location_country_id{i}' for i in range(5)])],axis=1)\n",
    "train_data = pd.concat([train_data,pd.DataFrame(prop_country_id_hashed,columns=[f'prop_country_id{i}' for i in range(5)])],axis=1)\n",
    "train_data = pd.concat([train_data,pd.DataFrame(srch_destination_id_hashed,columns=[f'srch_destination_id{i}' for i in range(5)])],axis=1)\n",
    "\n",
    "train_data.drop(labels=['site_id','visitor_location_country_id','prop_country_id','srch_destination_id'],axis=1,inplace=True)"
   ]
  },
  {
   "cell_type": "markdown",
   "metadata": {},
   "source": [
    "train_data.head()"
   ]
  },
  {
   "cell_type": "markdown",
   "metadata": {},
   "source": [
    "Splitting into test and train"
   ]
  },
  {
   "cell_type": "code",
   "execution_count": 2,
   "metadata": {},
   "outputs": [],
   "source": [
    "from typing import Tuple\n",
    "\n",
    "def split_test_train(data_df:pd.DataFrame, label_df:pd.DataFrame, train_percent:int) -> Tuple[pd.DataFrame, pd.DataFrame, pd.DataFrame, pd.DataFrame]:\n",
    "    tot_len = len(label_df)\n",
    "    train_len = int(train_percent/100*tot_len)\n",
    "\n",
    "    train_data = data_df[:train_len]\n",
    "    train_label = label_df[:train_len]\n",
    "    test_data = data_df[train_len:]\n",
    "    test_label = label_df[train_len:]\n",
    "\n",
    "    return (train_data,train_label,test_data,test_label)\n",
    "\n",
    "train_data_x = train_data.drop('relevancy',axis=1)\n",
    "train_data_y = train_data['relevancy']\n",
    "\n",
<<<<<<< HEAD
    "train_data,train_label,test_data,test_label = split_test_train(train_data_x,train_data_y,100)\n",
    "\n",
    "del[[train_data_x,train_data_y]]\n",
    "gc.collect()\n",
    "train_data_x = pd.DataFrame()\n",
    "train_data_y = pd.DataFrame()"
=======
    "#train_data,train_label,test_data,test_label = split_test_train(train_data_x,train_data_y,80)\n",
    "#\n",
    "#del[[train_data_x,train_data_y]]\n",
    "#gc.collect()\n",
    "#train_data_x = pd.DataFrame()\n",
    "#train_data_y = pd.DataFrame()"
>>>>>>> 25e9aa95771227f51710321ff5796ba370b51c66
   ]
  },
  {
   "cell_type": "code",
   "execution_count": 3,
   "metadata": {},
   "outputs": [
    {
     "name": "stderr",
     "output_type": "stream",
     "text": [
<<<<<<< HEAD
      "Series([], Name: relevancy, dtype: int64)\n"
=======
      "c:\\Users\\Ramon\\AppData\\Local\\Programs\\Python\\Python37\\lib\\site-packages\\ipykernel_launcher.py:5: FutureWarning: In a future version of pandas all arguments of DataFrame.drop except for the argument 'labels' will be keyword-only\n",
      "  \"\"\"\n"
>>>>>>> 25e9aa95771227f51710321ff5796ba370b51c66
     ]
    }
   ],
   "source": [
    "train_data_x = train_data.drop('relevancy',axis=1)\n",
    "train_data_y = train_data['relevancy']\n",
    "srch_id_test = test_data['srch_id']\n",
    "prop_id_test = test_data['prop_id']\n",
    "test_data = test_data.drop(['srch_id', 'prop_id'],1)\n"
   ]
  },
  {
   "cell_type": "code",
   "execution_count": null,
   "metadata": {},
   "outputs": [],
   "source": [
    "train_data_x[:1]"
   ]
  },
  {
   "cell_type": "code",
   "execution_count": null,
   "metadata": {},
   "outputs": [],
   "source": [
    "test_data[:10]"
   ]
  },
  {
   "cell_type": "code",
   "execution_count": 4,
   "metadata": {},
<<<<<<< HEAD
   "outputs": [],
   "source": [
    "#weight_0 = 1-train_label.value_counts()[0]/len(train_label)\n",
    "#weight_1 = 1-train_label.value_counts()[1]/len(train_label)\n",
    "#weight_5 = 1-train_label.value_counts()[5]/len(train_label)\n",
=======
   "outputs": [
    {
     "name": "stdout",
     "output_type": "stream",
     "text": [
      "0.04441209431211768\n",
      "0.9890304959636466\n",
      "0.9665574097242358\n"
     ]
    }
   ],
   "source": [
    "weight_0 = 1-train_data_y.value_counts()[0]/len(train_data_y)\n",
    "weight_1 = 1-train_data_y.value_counts()[1]/len(train_data_y)\n",
    "weight_5 = 1-train_data_y.value_counts()[5]/len(train_data_y)\n",
>>>>>>> 25e9aa95771227f51710321ff5796ba370b51c66
    "\n",
    "#print(weight_0)\n",
    "#print(weight_1)\n",
    "#print(weight_5)"
   ]
  },
  {
   "cell_type": "code",
   "execution_count": 31,
   "metadata": {},
   "outputs": [
    {
     "name": "stdout",
     "output_type": "stream",
     "text": [
<<<<<<< HEAD
      "665637\n",
      "0\n"
=======
      "2990199\n",
      "4959183\n",
      "4959183\n",
      "4959183\n"
>>>>>>> 25e9aa95771227f51710321ff5796ba370b51c66
     ]
    }
   ],
   "source": [
    "\n",
    "\n",
    "print(len(train_data_y))\n",
    "print(len(test_data))\n",
    "print(len(srch_id_test))\n",
    "print(len(prop_id_test))"
   ]
  },
  {
   "cell_type": "markdown",
   "metadata": {},
   "source": [
    "Training"
   ]
  },
  {
   "cell_type": "code",
   "execution_count": 32,
   "metadata": {},
   "outputs": [],
   "source": [
    "import sklearn\n",
    "from sklearn.preprocessing import StandardScaler\n",
    "\n",
    "#scaler = StandardScaler().fit(train_data_x)\n",
    "#train_data_x = scaler.transform(train_data_x)\n",
    "#scaler = StandardScaler().fit(test_data)\n",
    "#test_data = scaler.transform(test_data)"
   ]
  },
  {
   "cell_type": "code",
   "execution_count": 5,
   "metadata": {},
   "outputs": [
    {
     "name": "stdout",
     "output_type": "stream",
     "text": [
      "0    95535\n",
      "5     2832\n",
      "1     1633\n",
      "Name: relevancy, dtype: int64\n",
      "         srch_id            date_time  site_id  visitor_location_country_id  \\\n",
      "64735       4314  2013-03-17 12:38:04        5                          219   \n",
      "4555133   305633  2013-04-01 15:15:40       14                          100   \n",
      "3272402   219730  2012-12-13 15:22:45        5                          219   \n",
      "956256     63846  2013-01-03 17:33:34        5                          219   \n",
      "1169992    78202  2013-03-24 13:12:43        5                          219   \n",
      "\n",
      "         visitor_hist_starrating  visitor_hist_adr_usd  prop_country_id  \\\n",
      "64735                        NaN                   NaN              219   \n",
      "4555133                      NaN                   NaN               18   \n",
      "3272402                      4.0                184.89              219   \n",
      "956256                       NaN                   NaN              219   \n",
      "1169992                      NaN                   NaN              219   \n",
      "\n",
      "         prop_id  prop_starrating  prop_review_score  ...  comp8_rate  \\\n",
      "64735      27699                4                3.0  ...         NaN   \n",
      "4555133    73696                4                4.0  ...         NaN   \n",
      "3272402    32234                3                4.0  ...         1.0   \n",
      "956256     33869                2                2.5  ...         NaN   \n",
      "1169992    82141                2                2.0  ...         NaN   \n",
      "\n",
      "         comp8_inv  comp8_rate_percent_diff  click_bool  gross_bookings_usd  \\\n",
      "64735          NaN                      NaN           0                 NaN   \n",
      "4555133        NaN                      NaN           0                 NaN   \n",
      "3272402        0.0                      3.0           0                 NaN   \n",
      "956256         1.0                      NaN           0                 NaN   \n",
      "1169992        NaN                      NaN           0                 NaN   \n",
      "\n",
      "         booking_bool  relevancy  comp_rate  comp_inv  comp_rate_percent_diff  \n",
      "64735               0          0       -1.0       0.0                    15.0  \n",
      "4555133             0          0        0.0       0.0                     0.0  \n",
      "3272402             0          0        1.0       0.0                     9.0  \n",
      "956256              0          0        1.0       1.0                    52.0  \n",
      "1169992             0          0        0.0      -1.0                     0.0  \n",
      "\n",
      "[5 rows x 58 columns]\n",
      "1    64077\n",
      "0    35923\n",
      "Name: same_country, dtype: int64\n"
     ]
    }
   ],
   "source": [
    "import functions.preprocessing as prep\n",
    "import numpy as np\n",
    "\n",
    "train_file_og_path = os.path.join(os.getcwd(),'data/training_set_VU_DM.csv')\n",
    "test_data = pd.read_csv(train_file_og_path)\n",
    "\n",
    "samp_size = 100000\n",
    "\n",
    "test_data = test_data.sample(samp_size,random_state=10)\n",
    "\n",
    "conditions = [\n",
    "    (test_data['booking_bool'] == 1),\n",
    "    (test_data['click_bool'] == 1 ) & (test_data['booking_bool'] == 0),\n",
    "    (test_data['click_bool'] == 0),\n",
    "    ]\n",
    "values = ['5', '1', '0']\n",
    "test_data['relevancy'] = np.select(conditions, values)\n",
    "test_data['relevancy'] = test_data['relevancy'].astype(int)\n",
    "\n",
    "print(test_data['relevancy'].value_counts())\n",
    "\n",
    "test_data = prep.mergeCompsAll(test_data)\n",
    "test_data = prep.fill_comp_rate(test_data)\n",
    "test_data = prep.fill_comp_inv(test_data)\n",
    "test_data = prep.fill_rate_diff(test_data)\n",
    "\n",
    "print(test_data.head())\n",
    "\n",
    "conditions = [\n",
    "    (test_data['visitor_location_country_id'] == test_data['prop_country_id']),\n",
    "    (test_data['visitor_location_country_id'] != test_data['prop_country_id'])\n",
    "]\n",
    "\n",
    "values = ['1','0']\n",
    "test_data['same_country'] = np.select(conditions,values)\n",
    "\n",
    "print(test_data['same_country'].value_counts())\n",
    "\n",
    "\n",
    "test_label = test_data['relevancy']\n",
    "test_data = test_data.drop('relevancy',axis=1)\n",
    "\n",
    "\n",
    "common_columns_train_test = ['site_id','visitor_location_country_id','prop_country_id','prop_starrating','prop_review_score','prop_brand_bool','prop_location_score1','prop_location_score2','prop_log_historical_price','promotion_flag','srch_destination_id','srch_length_of_stay','srch_booking_window','srch_adults_count','srch_children_count','srch_room_count','srch_saturday_night_bool','random_bool','comp_rate','comp_inv','comp_rate_percent_diff','same_country']\n",
    "\n",
    "test_data = test_data[common_columns_train_test]\n",
    "\n",
    "test_data.fillna({'prop_review_score':test_data['prop_review_score'].mean()},inplace=True)\n",
    "test_data.fillna({'prop_location_score2':test_data['prop_location_score2'].mean()},inplace=True)\n",
    "\n"
   ]
  },
  {
   "cell_type": "code",
   "execution_count": 9,
   "metadata": {},
   "outputs": [],
   "source": [
    "from dask.distributed import Client\n",
    "import joblib\n",
    "\n",
    "from sklearn.ensemble import RandomForestClassifier\n",
    "from sklearn.metrics import f1_score\n",
    "\n",
    "client = Client(processes=False) \n",
    "\n",
    "knn_classifier = RandomForestClassifier(class_weight='balanced')\n",
    "\n",
    "with joblib.parallel_backend('dask'):\n",
<<<<<<< HEAD
    "    knn_classifier.fit(train_data,train_label)\n",
    "    preds = knn_classifier.predict(test_data)\n",
    "    f1_sc = f1_score(preds,test_label,average='macro')\n",
=======
    "    knn_classifier.fit(train_data_x,train_data_y)\n",
>>>>>>> 25e9aa95771227f51710321ff5796ba370b51c66
    "\n",
    "#del[[train_data,train_label]]\n",
    "#gc.collect()\n",
    "#train_data = pd.DataFrame()\n",
    "#train_label = pd.DataFrame()"
   ]
  },
  {
   "cell_type": "code",
   "execution_count": 10,
   "metadata": {},
   "outputs": [
    {
     "name": "stdout",
     "output_type": "stream",
     "text": [
      "0.7066734514623013\n"
     ]
    }
   ],
   "source": [
    "#with joblib.parallel_backend('dask'):\n",
    "#    accuracy = knn_classifier.score(test_data,test_label)\n",
<<<<<<< HEAD
    "\n",
    "#print(accuracy)\n",
    "print(f1_sc)\n"
=======
    "#print(accuracy)\n"
>>>>>>> 25e9aa95771227f51710321ff5796ba370b51c66
   ]
  },
  {
   "cell_type": "code",
<<<<<<< HEAD
   "execution_count": 12,
=======
   "execution_count": 6,
>>>>>>> 25e9aa95771227f51710321ff5796ba370b51c66
   "metadata": {},
   "outputs": [
    {
     "name": "stdout",
     "output_type": "stream",
     "text": [
<<<<<<< HEAD
      "[0 5 0 ... 0 5 0]\n"
=======
      "[0 0 0 0 0 0 0 0 0 0]\n"
>>>>>>> 25e9aa95771227f51710321ff5796ba370b51c66
     ]
    }
   ],
   "source": [
<<<<<<< HEAD
    "print(preds)\n",
=======
    "with joblib.parallel_backend('dask'):\n",
    "    preds = knn_classifier.predict(test_data)\n",
    "\n",
    "print(preds[:10])\n",
>>>>>>> 25e9aa95771227f51710321ff5796ba370b51c66
    "\n",
    "#del[[test_data,test_label]]\n",
    "#gc.collect()\n",
    "#test_data = pd.DataFrame()\n",
    "#test_label = pd.DataFrame()"
   ]
  },
  {
   "cell_type": "code",
<<<<<<< HEAD
   "execution_count": 13,
=======
   "execution_count": 7,
>>>>>>> 25e9aa95771227f51710321ff5796ba370b51c66
   "metadata": {},
   "outputs": [
    {
     "data": {
      "text/plain": [
<<<<<<< HEAD
       "{0: 89218, 1: 3099, 5: 7683}"
      ]
     },
     "execution_count": 13,
=======
       "{0: 4910299, 1: 10126, 5: 38758}"
      ]
     },
     "execution_count": 7,
>>>>>>> 25e9aa95771227f51710321ff5796ba370b51c66
     "metadata": {},
     "output_type": "execute_result"
    }
   ],
   "source": [
    "import numpy as np\n",
    "\n",
    "unique, counts = np.unique(preds, return_counts=True)\n",
    "dict(zip(unique,counts))\n",
    "## 4821098,    39285,  98800"
   ]
  },
  {
   "cell_type": "code",
   "execution_count": 8,
   "metadata": {},
   "outputs": [],
   "source": [
    "finalFrame = pd.DataFrame(list(zip(srch_id_test, prop_id_test, preds)), columns=['srch_id', 'prop_id', 'predicted_y'])"
   ]
  },
  {
   "cell_type": "code",
   "execution_count": 9,
   "metadata": {},
   "outputs": [
    {
     "data": {
      "text/html": [
       "<div>\n",
       "<style scoped>\n",
       "    .dataframe tbody tr th:only-of-type {\n",
       "        vertical-align: middle;\n",
       "    }\n",
       "\n",
       "    .dataframe tbody tr th {\n",
       "        vertical-align: top;\n",
       "    }\n",
       "\n",
       "    .dataframe thead th {\n",
       "        text-align: right;\n",
       "    }\n",
       "</style>\n",
       "<table border=\"1\" class=\"dataframe\">\n",
       "  <thead>\n",
       "    <tr style=\"text-align: right;\">\n",
       "      <th></th>\n",
       "      <th>srch_id</th>\n",
       "      <th>prop_id</th>\n",
       "      <th>predicted_y</th>\n",
       "    </tr>\n",
       "  </thead>\n",
       "  <tbody>\n",
       "    <tr>\n",
       "      <th>0</th>\n",
       "      <td>1</td>\n",
       "      <td>3180</td>\n",
       "      <td>0</td>\n",
       "    </tr>\n",
       "    <tr>\n",
       "      <th>1</th>\n",
       "      <td>1</td>\n",
       "      <td>5543</td>\n",
       "      <td>0</td>\n",
       "    </tr>\n",
       "    <tr>\n",
       "      <th>2</th>\n",
       "      <td>1</td>\n",
       "      <td>14142</td>\n",
       "      <td>0</td>\n",
       "    </tr>\n",
       "    <tr>\n",
       "      <th>3</th>\n",
       "      <td>1</td>\n",
       "      <td>22393</td>\n",
       "      <td>0</td>\n",
       "    </tr>\n",
       "    <tr>\n",
       "      <th>4</th>\n",
       "      <td>1</td>\n",
       "      <td>24194</td>\n",
       "      <td>0</td>\n",
       "    </tr>\n",
       "  </tbody>\n",
       "</table>\n",
       "</div>"
      ],
      "text/plain": [
       "   srch_id  prop_id  predicted_y\n",
       "0        1     3180            0\n",
       "1        1     5543            0\n",
       "2        1    14142            0\n",
       "3        1    22393            0\n",
       "4        1    24194            0"
      ]
     },
     "execution_count": 9,
     "metadata": {},
     "output_type": "execute_result"
    }
   ],
   "source": [
    "finalFrame = finalFrame.sort_values(['srch_id', 'predicted_y'], ascending = [True, False])\n",
    "finalFrame[:5]\n"
   ]
  },
  {
   "cell_type": "code",
   "execution_count": 10,
   "metadata": {},
   "outputs": [
    {
     "name": "stderr",
     "output_type": "stream",
     "text": [
      "c:\\Users\\Ramon\\AppData\\Local\\Programs\\Python\\Python37\\lib\\site-packages\\ipykernel_launcher.py:1: FutureWarning: In a future version of pandas all arguments of DataFrame.drop except for the argument 'labels' will be keyword-only\n",
      "  \"\"\"Entry point for launching an IPython kernel.\n"
     ]
    },
    {
     "data": {
      "text/html": [
       "<div>\n",
       "<style scoped>\n",
       "    .dataframe tbody tr th:only-of-type {\n",
       "        vertical-align: middle;\n",
       "    }\n",
       "\n",
       "    .dataframe tbody tr th {\n",
       "        vertical-align: top;\n",
       "    }\n",
       "\n",
       "    .dataframe thead th {\n",
       "        text-align: right;\n",
       "    }\n",
       "</style>\n",
       "<table border=\"1\" class=\"dataframe\">\n",
       "  <thead>\n",
       "    <tr style=\"text-align: right;\">\n",
       "      <th></th>\n",
       "      <th>srch_id</th>\n",
       "      <th>prop_id</th>\n",
       "    </tr>\n",
       "  </thead>\n",
       "  <tbody>\n",
       "    <tr>\n",
       "      <th>0</th>\n",
       "      <td>1</td>\n",
       "      <td>3180</td>\n",
       "    </tr>\n",
       "    <tr>\n",
       "      <th>1</th>\n",
       "      <td>1</td>\n",
       "      <td>5543</td>\n",
       "    </tr>\n",
       "    <tr>\n",
       "      <th>2</th>\n",
       "      <td>1</td>\n",
       "      <td>14142</td>\n",
       "    </tr>\n",
       "    <tr>\n",
       "      <th>3</th>\n",
       "      <td>1</td>\n",
       "      <td>22393</td>\n",
       "    </tr>\n",
       "    <tr>\n",
       "      <th>4</th>\n",
       "      <td>1</td>\n",
       "      <td>24194</td>\n",
       "    </tr>\n",
       "  </tbody>\n",
       "</table>\n",
       "</div>"
      ],
      "text/plain": [
       "   srch_id  prop_id\n",
       "0        1     3180\n",
       "1        1     5543\n",
       "2        1    14142\n",
       "3        1    22393\n",
       "4        1    24194"
      ]
     },
     "execution_count": 10,
     "metadata": {},
     "output_type": "execute_result"
    }
   ],
   "source": [
    "outputFrame = finalFrame.drop(['predicted_y'],1)\n",
    "outputFrame[:5]\n"
   ]
  },
  {
   "cell_type": "code",
   "execution_count": 11,
   "metadata": {},
   "outputs": [],
   "source": [
    "outputFrame.to_csv('random_forest_25-5-2.csv', index=False)"
   ]
  },
  {
   "cell_type": "markdown",
   "metadata": {},
   "source": [
    "Doing Predictions on Final Test Dataset"
   ]
  },
  {
   "cell_type": "code",
   "execution_count": null,
   "metadata": {},
   "outputs": [],
   "source": [
    "test_file_path = os.path.join(os.getcwd(),'data/test_data.csv')\n",
    "test_df = pd.read_csv(test_file_path,index_col=0)\n",
    "\n",
    "test_df.head()"
   ]
  },
  {
   "cell_type": "code",
   "execution_count": null,
   "metadata": {},
   "outputs": [],
   "source": [
    "test_df_feat = test_df.drop(['srch_id','prop_id'],axis=1)\n",
    "test_df_feat.head()"
   ]
  },
  {
   "cell_type": "code",
   "execution_count": null,
   "metadata": {},
   "outputs": [],
   "source": [
    "with joblib.parallel_backend('dask'):\n",
    "    final_preds = knn_classifier.predict(test_df_feat)\n",
    "\n",
    "print(final_preds)\n",
    "\n",
    "del[[test_df_feat]]\n",
    "gc.collect()\n",
    "test_df_feat = pd.DataFrame()"
   ]
  },
  {
   "cell_type": "code",
   "execution_count": null,
   "metadata": {},
   "outputs": [],
   "source": [
    "test_df['pred'] = final_preds\n",
    "test_df.head()"
   ]
  },
  {
   "cell_type": "code",
   "execution_count": null,
   "metadata": {},
   "outputs": [],
   "source": [
    "final_output_df = test_df[['srch_id','prop_id','pred']]\n",
    "final_output_df.head()\n",
    "\n",
    "del[[test_df]]\n",
    "gc.collect()\n",
    "test_df = pd.DataFrame()"
   ]
  },
  {
   "cell_type": "code",
   "execution_count": null,
   "metadata": {},
   "outputs": [],
   "source": [
    "final_output_df = final_output_df.sort_values(by=['srch_id','pred'],ascending=[True,False],ignore_index=True)\n",
    "final_output_df.head()\n"
   ]
  },
  {
   "cell_type": "code",
   "execution_count": null,
   "metadata": {},
   "outputs": [],
   "source": [
    "final_output_df.drop('pred',axis=1,inplace=True)\n",
    "out_path = os.path.join(os.getcwd(),'data/final_submission.csv')\n",
    "final_output_df.to_csv(path_or_buf=out_path,index=False)"
   ]
  }
 ],
 "metadata": {
  "interpreter": {
   "hash": "84b962f2f278f8c5f72c48a6636c1f10fd3d5b5d26c18f151a5696f5b5a7ec31"
  },
  "kernelspec": {
   "display_name": "Python 3.7.9 64-bit",
   "language": "python",
   "name": "python3"
  },
  "language_info": {
   "codemirror_mode": {
    "name": "ipython",
    "version": 3
   },
   "file_extension": ".py",
   "mimetype": "text/x-python",
   "name": "python",
   "nbconvert_exporter": "python",
   "pygments_lexer": "ipython3",
   "version": "3.7.9"
  },
  "orig_nbformat": 4
 },
 "nbformat": 4,
 "nbformat_minor": 2
}

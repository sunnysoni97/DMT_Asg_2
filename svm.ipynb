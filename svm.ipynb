{
 "cells": [
  {
   "cell_type": "code",
   "execution_count": 1,
   "metadata": {},
   "outputs": [
    {
     "name": "stdout",
     "output_type": "stream",
     "text": [
      "This jupyter notebook is running on Python 3.7.9\n"
     ]
    }
   ],
   "source": [
    "import platform\n",
    "import sys\n",
    "import pandas as pd\n",
    "import calendar\n",
    "import matplotlib.pyplot as plt\n",
    "import seaborn as sns\n",
    "import numpy as np\n",
    "import functions.preprocessing as prep\n",
    "\n",
    "import sklearn\n",
    "from sklearn import svm\n",
    "from mpl_toolkits.mplot3d import Axes3D\n",
    "from sklearn.preprocessing import StandardScaler\n",
    "import sklearn.metrics as sm\n",
    "from sklearn import datasets\n",
    "from sklearn.metrics import confusion_matrix, classification_report\n",
    "from sklearn.model_selection import train_test_split\n",
    "pd.set_option('display.max_columns', None)\n",
    "pd.set_option('display.max_rows', None)\n",
    "\n",
    "print(\"This jupyter notebook is running on Python \" + platform.python_version())\n",
    "# It's good practice to assert packages requirements at the beginning of a script:\n",
    "assert sys.version_info >= (3, 6)  # Tested with Python==3.7.9"
   ]
  },
  {
   "cell_type": "code",
   "execution_count": 2,
   "metadata": {},
   "outputs": [],
   "source": [
    "training_set_file_path = 'data/training_set_VU_DM.csv'\n",
    "test_set_file_path = 'data/test_set_VU_DM.csv'\n",
    "training_data = pd.read_csv(training_set_file_path)\n",
    "test_data = pd.read_csv(test_set_file_path)"
   ]
  },
  {
   "cell_type": "code",
   "execution_count": 3,
   "metadata": {},
   "outputs": [
    {
     "name": "stderr",
     "output_type": "stream",
     "text": [
      "c:\\Users\\Ramon\\Desktop\\DMT_Asg_2\\functions\\preprocessing.py:9: FutureWarning: In a future version of pandas all arguments of DataFrame.drop except for the argument 'labels' will be keyword-only\n",
      "  return dataFrame.drop('date_time', 1)\n",
      "c:\\Users\\Ramon\\Desktop\\DMT_Asg_2\\functions\\preprocessing.py:19: FutureWarning: In a future version of pandas all arguments of DataFrame.drop except for the argument 'labels' will be keyword-only\n",
      "  dataFrame = dataFrame.drop(useless_columns, 1)\n",
      "c:\\Users\\Ramon\\Desktop\\DMT_Asg_2\\functions\\preprocessing.py:20: FutureWarning: In a future version of pandas all arguments of DataFrame.drop except for the argument 'labels' will be keyword-only\n",
      "  dataFrame = dataFrame.drop(['comp3_rate','comp3_inv'], 1)\n",
      "c:\\Users\\Ramon\\Desktop\\DMT_Asg_2\\functions\\preprocessing.py:33: FutureWarning: In a future version of pandas all arguments of DataFrame.drop except for the argument 'labels' will be keyword-only\n",
      "  'comp2_rate_percent_diff', 'comp5_rate_percent_diff', 'comp8_rate_percent_diff'], 1)\n"
     ]
    },
    {
     "name": "stdout",
     "output_type": "stream",
     "text": [
      "<class 'pandas.core.frame.DataFrame'>\n",
      "RangeIndex: 4958347 entries, 0 to 4958346\n",
      "Data columns (total 30 columns):\n",
      " #   Column                       Dtype  \n",
      "---  ------                       -----  \n",
      " 0   srch_id                      int64  \n",
      " 1   site_id                      int64  \n",
      " 2   visitor_location_country_id  int64  \n",
      " 3   prop_country_id              int64  \n",
      " 4   prop_id                      int64  \n",
      " 5   prop_starrating              int64  \n",
      " 6   prop_review_score            float64\n",
      " 7   prop_brand_bool              int64  \n",
      " 8   prop_location_score1         float64\n",
      " 9   prop_location_score2         float64\n",
      " 10  prop_log_historical_price    float64\n",
      " 11  position                     int64  \n",
      " 12  price_usd                    float64\n",
      " 13  promotion_flag               int64  \n",
      " 14  srch_destination_id          int64  \n",
      " 15  srch_length_of_stay          int64  \n",
      " 16  srch_booking_window          int64  \n",
      " 17  srch_adults_count            int64  \n",
      " 18  srch_children_count          int64  \n",
      " 19  srch_room_count              int64  \n",
      " 20  srch_saturday_night_bool     int64  \n",
      " 21  orig_destination_distance    float64\n",
      " 22  random_bool                  int64  \n",
      " 23  click_bool                   int64  \n",
      " 24  booking_bool                 int64  \n",
      " 25  year                         int64  \n",
      " 26  month                        int64  \n",
      " 27  comp_rate                    float64\n",
      " 28  comp_inv                     float64\n",
      " 29  comp_rate_percent_diff       float64\n",
      "dtypes: float64(9), int64(21)\n",
      "memory usage: 1.1 GB\n"
     ]
    }
   ],
   "source": [
    "training_data = prep.parseDateTime(training_data)\n",
    "training_data, useless_columns = prep.removeUselessColumns(training_data, threshold=90)\n",
    "training_data = prep.replaceNaN(training_data)\n",
    "training_data = prep.mergeComps(training_data)\n",
    "training_data.info(verbose=True)"
   ]
  },
  {
   "cell_type": "markdown",
   "metadata": {},
   "source": [
    "Here we filter some of our data. Removing useless columns etc."
   ]
  },
  {
   "cell_type": "code",
   "execution_count": 4,
   "metadata": {},
   "outputs": [
    {
     "name": "stderr",
     "output_type": "stream",
     "text": [
      "c:\\Users\\Ramon\\AppData\\Local\\Programs\\Python\\Python37\\lib\\site-packages\\ipykernel_launcher.py:4: FutureWarning: In a future version of pandas all arguments of DataFrame.drop except for the argument 'labels' will be keyword-only\n",
      "  after removing the cwd from sys.path.\n",
      "c:\\Users\\Ramon\\AppData\\Local\\Programs\\Python\\Python37\\lib\\site-packages\\ipykernel_launcher.py:7: FutureWarning: In a future version of pandas all arguments of DataFrame.drop except for the argument 'labels' will be keyword-only\n",
      "  import sys\n"
     ]
    },
    {
     "name": "stdout",
     "output_type": "stream",
     "text": [
      "['site_id', 'visitor_location_country_id', 'prop_country_id', 'prop_id', 'prop_starrating', 'prop_review_score', 'prop_brand_bool', 'prop_location_score1', 'prop_location_score2', 'prop_log_historical_price', 'price_usd', 'promotion_flag', 'srch_destination_id', 'srch_length_of_stay', 'srch_booking_window', 'srch_adults_count', 'srch_children_count', 'srch_room_count', 'srch_saturday_night_bool', 'orig_destination_distance', 'random_bool', 'year', 'month', 'comp_rate', 'comp_inv', 'comp_rate_percent_diff']\n"
     ]
    },
    {
     "name": "stderr",
     "output_type": "stream",
     "text": [
      "c:\\Users\\Ramon\\Desktop\\DMT_Asg_2\\functions\\preprocessing.py:9: FutureWarning: In a future version of pandas all arguments of DataFrame.drop except for the argument 'labels' will be keyword-only\n",
      "  return dataFrame.drop('date_time', 1)\n",
      "c:\\Users\\Ramon\\Desktop\\DMT_Asg_2\\functions\\preprocessing.py:19: FutureWarning: In a future version of pandas all arguments of DataFrame.drop except for the argument 'labels' will be keyword-only\n",
      "  dataFrame = dataFrame.drop(useless_columns, 1)\n",
      "c:\\Users\\Ramon\\Desktop\\DMT_Asg_2\\functions\\preprocessing.py:20: FutureWarning: In a future version of pandas all arguments of DataFrame.drop except for the argument 'labels' will be keyword-only\n",
      "  dataFrame = dataFrame.drop(['comp3_rate','comp3_inv'], 1)\n",
      "c:\\Users\\Ramon\\Desktop\\DMT_Asg_2\\functions\\preprocessing.py:33: FutureWarning: In a future version of pandas all arguments of DataFrame.drop except for the argument 'labels' will be keyword-only\n",
      "  'comp2_rate_percent_diff', 'comp5_rate_percent_diff', 'comp8_rate_percent_diff'], 1)\n"
     ]
    },
    {
     "name": "stdout",
     "output_type": "stream",
     "text": [
      "['site_id', 'visitor_location_country_id', 'prop_country_id', 'prop_id', 'prop_starrating', 'prop_review_score', 'prop_brand_bool', 'prop_location_score1', 'prop_location_score2', 'prop_log_historical_price', 'price_usd', 'promotion_flag', 'srch_destination_id', 'srch_length_of_stay', 'srch_booking_window', 'srch_adults_count', 'srch_children_count', 'srch_room_count', 'srch_saturday_night_bool', 'orig_destination_distance', 'random_bool', 'year', 'month', 'comp_rate', 'comp_inv', 'comp_rate_percent_diff']\n",
      "4959183\n",
      "4959183\n"
     ]
    },
    {
     "name": "stderr",
     "output_type": "stream",
     "text": [
      "c:\\Users\\Ramon\\AppData\\Local\\Programs\\Python\\Python37\\lib\\site-packages\\ipykernel_launcher.py:18: FutureWarning: In a future version of pandas all arguments of DataFrame.drop except for the argument 'labels' will be keyword-only\n"
     ]
    }
   ],
   "source": [
    "#training_data_y = training_data.booking_bool\n",
    "#training_data_x = training_data.drop(['booking_bool'],1)\n",
    "training_data_y = training_data.click_bool\n",
    "training_data_x = training_data.drop(['click_bool', 'position'],1)\n",
    "training_data_x['srch_id'] = training_data_x['srch_id'].astype('category')\n",
    "search_id = training_data_x.srch_id.tolist()\n",
    "training_data_x = training_data_x.drop(['srch_id', 'booking_bool'],1)\n",
    "scaler = StandardScaler().fit(training_data_x)\n",
    "training_data_x = scaler.transform(training_data_x)\n",
    "\n",
    "search_id_test = test_data.srch_id.tolist()\n",
    "prop_id_test = test_data.prop_id.tolist()\n",
    "test_data = prep.parseDateTime(test_data)\n",
    "test_data, useless_columns = prep.removeUselessColumns(test_data, threshold=90)\n",
    "test_data = prep.replaceNaN(test_data)\n",
    "test_data = prep.mergeComps(test_data)\n",
    "test_data = test_data.drop(['srch_id'],1)\n",
    "\n",
    "#training_data_x, testing_data_x, training_data_y, testing_data_y = train_test_split(training_data_x, training_data_y, test_size=0.25, random_state=42)\n",
    "\n",
    "del training_data\n"
   ]
  },
  {
   "cell_type": "markdown",
   "metadata": {},
   "source": [
    "We then create and train the model"
   ]
  },
  {
   "cell_type": "code",
   "execution_count": 5,
   "metadata": {},
   "outputs": [
    {
     "name": "stderr",
     "output_type": "stream",
     "text": [
      "c:\\Users\\Ramon\\AppData\\Local\\Programs\\Python\\Python37\\lib\\site-packages\\sklearn\\svm\\_base.py:986: ConvergenceWarning: Liblinear failed to converge, increase the number of iterations.\n",
      "  \"the number of iterations.\", ConvergenceWarning)\n"
     ]
    },
    {
     "data": {
      "text/plain": [
       "LinearSVC()"
      ]
     },
     "execution_count": 5,
     "metadata": {},
     "output_type": "execute_result"
    }
   ],
   "source": [
    "clf = svm.LinearSVC() \n",
    "clf.fit(training_data_x, training_data_y)"
   ]
  },
  {
   "cell_type": "markdown",
   "metadata": {},
   "source": [
    "Make the predictions, and put them into a dataframe"
   ]
  },
  {
   "cell_type": "code",
   "execution_count": 6,
   "metadata": {},
   "outputs": [],
   "source": [
    "predicted_y = clf.predict(test_data)\n",
    "predicted_y_log = clf._predict_proba_lr(test_data)"
   ]
  },
  {
   "cell_type": "code",
   "execution_count": 11,
   "metadata": {},
   "outputs": [],
   "source": [
    "highest_predict = np.amax(predicted_y_log, axis=1)\n",
    "myDataFrame = pd.DataFrame(list(zip(search_id_test, prop_id_test, predicted_y, highest_predict)), columns=['srch_id', 'prop_id', 'predicted_y', 'predicted_y_log'])"
   ]
  },
  {
   "cell_type": "code",
   "execution_count": 25,
   "metadata": {},
   "outputs": [
    {
     "data": {
      "text/html": [
       "<div>\n",
       "<style scoped>\n",
       "    .dataframe tbody tr th:only-of-type {\n",
       "        vertical-align: middle;\n",
       "    }\n",
       "\n",
       "    .dataframe tbody tr th {\n",
       "        vertical-align: top;\n",
       "    }\n",
       "\n",
       "    .dataframe thead th {\n",
       "        text-align: right;\n",
       "    }\n",
       "</style>\n",
       "<table border=\"1\" class=\"dataframe\">\n",
       "  <thead>\n",
       "    <tr style=\"text-align: right;\">\n",
       "      <th></th>\n",
       "      <th>srch_id</th>\n",
       "      <th>prop_id</th>\n",
       "      <th>predicted_y</th>\n",
       "      <th>predicted_y_log</th>\n",
       "    </tr>\n",
       "  </thead>\n",
       "  <tbody>\n",
       "    <tr>\n",
       "      <th>55</th>\n",
       "      <td>3</td>\n",
       "      <td>132637</td>\n",
       "      <td>1</td>\n",
       "      <td>0.998692</td>\n",
       "    </tr>\n",
       "    <tr>\n",
       "      <th>53</th>\n",
       "      <td>3</td>\n",
       "      <td>131940</td>\n",
       "      <td>1</td>\n",
       "      <td>0.998626</td>\n",
       "    </tr>\n",
       "    <tr>\n",
       "      <th>54</th>\n",
       "      <td>3</td>\n",
       "      <td>131968</td>\n",
       "      <td>1</td>\n",
       "      <td>0.998222</td>\n",
       "    </tr>\n",
       "    <tr>\n",
       "      <th>52</th>\n",
       "      <td>3</td>\n",
       "      <td>131397</td>\n",
       "      <td>1</td>\n",
       "      <td>0.997629</td>\n",
       "    </tr>\n",
       "    <tr>\n",
       "      <th>51</th>\n",
       "      <td>3</td>\n",
       "      <td>124819</td>\n",
       "      <td>1</td>\n",
       "      <td>0.996344</td>\n",
       "    </tr>\n",
       "  </tbody>\n",
       "</table>\n",
       "</div>"
      ],
      "text/plain": [
       "    srch_id  prop_id  predicted_y  predicted_y_log\n",
       "55        3   132637            1         0.998692\n",
       "53        3   131940            1         0.998626\n",
       "54        3   131968            1         0.998222\n",
       "52        3   131397            1         0.997629\n",
       "51        3   124819            1         0.996344"
      ]
     },
     "execution_count": 25,
     "metadata": {},
     "output_type": "execute_result"
    }
   ],
   "source": [
    "myDataFrame = myDataFrame.sort_values(['srch_id', 'predicted_y_log'], ascending = [True, False])\n",
    "myDataFrame = myDataFrame[myDataFrame.predicted_y == 1]\n",
    "myDataFrame[0:5]"
   ]
  },
  {
   "cell_type": "code",
   "execution_count": 29,
   "metadata": {},
   "outputs": [
    {
     "name": "stderr",
     "output_type": "stream",
     "text": [
      "c:\\Users\\Ramon\\AppData\\Local\\Programs\\Python\\Python37\\lib\\site-packages\\ipykernel_launcher.py:1: FutureWarning: In a future version of pandas all arguments of DataFrame.drop except for the argument 'labels' will be keyword-only\n",
      "  \"\"\"Entry point for launching an IPython kernel.\n"
     ]
    }
   ],
   "source": [
    "outputFrame = myDataFrame.drop(['predicted_y', 'predicted_y_log'],1)\n",
    "outputFrame.to_csv('testOutput.csv', index=False)"
   ]
  },
  {
   "cell_type": "code",
   "execution_count": null,
   "metadata": {},
   "outputs": [],
   "source": [
    "report = classification_report(testing_data_y, predicted_y, output_dict=True)\n",
    "temp = pd.DataFrame(report).transpose()\n",
    "temp.to_csv('click_bool_feature_output.csv')"
   ]
  },
  {
   "cell_type": "markdown",
   "metadata": {},
   "source": [
    "The following numbers are when using \"booking_bool\" as the target"
   ]
  },
  {
   "cell_type": "code",
   "execution_count": 7,
   "metadata": {},
   "outputs": [
    {
     "name": "stdout",
     "output_type": "stream",
     "text": [
      "Recall score: 0.999249790807052\n",
      "True positive: 34631\n",
      "True negative: 1204930\n",
      "False positive: 0\n",
      "False negative: 26\n"
     ]
    }
   ],
   "source": [
    "print(f'Recall score: {recall_score}\\nTrue positive: {tp}\\nTrue negative: {tn}\\nFalse positive: {fp}\\nFalse negative: {fn}')"
   ]
  },
  {
   "cell_type": "markdown",
   "metadata": {},
   "source": [
    "The following numbers are when using \"click_bool\" as a target"
   ]
  },
  {
   "cell_type": "code",
   "execution_count": null,
   "metadata": {},
   "outputs": [],
   "source": [
    "print(f'Recall score: {recall_score}\\nTrue positive: {tp}\\nTrue negative: {tn}\\nFalse positive: {fp}\\nFalse negative: {fn}')"
   ]
  }
 ],
 "metadata": {
  "interpreter": {
   "hash": "84b962f2f278f8c5f72c48a6636c1f10fd3d5b5d26c18f151a5696f5b5a7ec31"
  },
  "kernelspec": {
   "display_name": "Python 3.7.9 64-bit",
   "language": "python",
   "name": "python3"
  },
  "language_info": {
   "codemirror_mode": {
    "name": "ipython",
    "version": 3
   },
   "file_extension": ".py",
   "mimetype": "text/x-python",
   "name": "python",
   "nbconvert_exporter": "python",
   "pygments_lexer": "ipython3",
   "version": "3.7.9"
  },
  "orig_nbformat": 4
 },
 "nbformat": 4,
 "nbformat_minor": 2
}

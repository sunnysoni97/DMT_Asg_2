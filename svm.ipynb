{
 "cells": [
  {
   "cell_type": "code",
   "execution_count": 1,
   "metadata": {},
   "outputs": [
    {
     "name": "stdout",
     "output_type": "stream",
     "text": [
      "This jupyter notebook is running on Python 3.7.9\n"
     ]
    }
   ],
   "source": [
    "import platform\n",
    "import sys\n",
    "import pandas as pd\n",
    "import calendar\n",
    "import matplotlib.pyplot as plt\n",
    "import seaborn as sns\n",
    "import numpy as np\n",
    "import functions.preprocessing as prep\n",
    "\n",
    "import sklearn\n",
    "from sklearn import svm\n",
    "from mpl_toolkits.mplot3d import Axes3D\n",
    "from sklearn.preprocessing import StandardScaler\n",
    "import sklearn.metrics as sm\n",
    "from sklearn import datasets\n",
    "from sklearn.metrics import confusion_matrix, classification_report\n",
    "from sklearn.model_selection import train_test_split\n",
    "pd.set_option('display.max_columns', None)\n",
    "pd.set_option('display.max_rows', None)\n",
    "\n",
    "print(\"This jupyter notebook is running on Python \" + platform.python_version())\n",
    "# It's good practice to assert packages requirements at the beginning of a script:\n",
    "assert sys.version_info >= (3, 6)  # Tested with Python==3.7.9"
   ]
  },
  {
   "cell_type": "code",
   "execution_count": 56,
   "metadata": {},
   "outputs": [],
   "source": [
    "training_set_file_path = 'data/training_set_VU_DM.csv'\n",
    "test_set_file_path = 'data/test_set_VU_DM.csv'\n",
    "training_data = pd.read_csv(training_set_file_path)\n",
    "test_data = pd.read_csv(test_set_file_path)"
   ]
  },
  {
   "cell_type": "code",
   "execution_count": 57,
   "metadata": {},
   "outputs": [
    {
     "name": "stderr",
     "output_type": "stream",
     "text": [
      "c:\\Users\\Ramon\\Desktop\\DMT_Asg_2\\functions\\preprocessing.py:19: FutureWarning: In a future version of pandas all arguments of DataFrame.drop except for the argument 'labels' will be keyword-only\n",
      "  dataFrame = dataFrame.drop(useless_columns, 1)\n",
      "c:\\Users\\Ramon\\Desktop\\DMT_Asg_2\\functions\\preprocessing.py:20: FutureWarning: In a future version of pandas all arguments of DataFrame.drop except for the argument 'labels' will be keyword-only\n",
      "  dataFrame = dataFrame.drop(['comp3_rate','comp3_inv'], 1)\n"
     ]
    }
   ],
   "source": [
    "training_data = prep.parseDateTime(training_data)\n",
    "training_data, useless_columns = prep.removeUselessColumns(training_data, threshold=90)\n",
    "training_data = prep.replaceNaN(training_data)\n",
    "training_data = prep.mergeComps(training_data)\n",
    "#training_data.info(verbose=True)"
   ]
  },
  {
   "cell_type": "markdown",
   "metadata": {},
   "source": [
    "Here we filter some of our data. Removing useless columns etc."
   ]
  },
  {
   "cell_type": "code",
   "execution_count": 58,
   "metadata": {},
   "outputs": [
    {
     "name": "stdout",
     "output_type": "stream",
     "text": [
      "['visitor_hist_starrating', 'visitor_hist_adr_usd', 'srch_query_affinity_score', 'comp1_rate', 'comp1_inv', 'comp1_rate_percent_diff', 'comp3_rate_percent_diff', 'comp4_rate', 'comp4_inv', 'comp4_rate_percent_diff', 'comp6_rate', 'comp6_inv', 'comp6_rate_percent_diff', 'comp7_rate', 'comp7_inv', 'comp7_rate_percent_diff', 'gross_bookings_usd']\n",
      "['visitor_hist_starrating', 'visitor_hist_adr_usd', 'srch_query_affinity_score', 'comp1_rate', 'comp1_inv', 'comp1_rate_percent_diff', 'comp3_rate_percent_diff', 'comp4_rate', 'comp4_inv', 'comp4_rate_percent_diff', 'comp6_rate', 'comp6_inv', 'comp6_rate_percent_diff', 'comp7_rate', 'comp7_inv', 'comp7_rate_percent_diff']\n"
     ]
    }
   ],
   "source": [
    "columns_to_drop = ['price_usd', 'month', 'year', 'srch_adults_count', 'srch_children_count', 'prop_id', \n",
    "                   'srch_room_count', 'prop_location_score2', 'prop_review_score', 'orig_destination_distance',]\n",
    "print(useless_columns)\n",
    "temp = useless_columns[:-1]\n",
    "print(temp)\n",
    "#training_data = training_data.drop(columns_to_drop, 1)\n",
    "#training_data.info(verbose=True)\n"
   ]
  },
  {
   "cell_type": "code",
   "execution_count": 59,
   "metadata": {},
   "outputs": [
    {
     "name": "stderr",
     "output_type": "stream",
     "text": [
      "c:\\Users\\Ramon\\AppData\\Local\\Programs\\Python\\Python37\\lib\\site-packages\\ipykernel_launcher.py:4: FutureWarning: In a future version of pandas all arguments of DataFrame.drop except for the argument 'labels' will be keyword-only\n",
      "  after removing the cwd from sys.path.\n",
      "c:\\Users\\Ramon\\AppData\\Local\\Programs\\Python\\Python37\\lib\\site-packages\\ipykernel_launcher.py:7: FutureWarning: In a future version of pandas all arguments of DataFrame.drop except for the argument 'labels' will be keyword-only\n",
      "  import sys\n",
      "c:\\Users\\Ramon\\AppData\\Local\\Programs\\Python\\Python37\\lib\\site-packages\\ipykernel_launcher.py:8: FutureWarning: In a future version of pandas all arguments of DataFrame.drop except for the argument 'labels' will be keyword-only\n",
      "  \n"
     ]
    },
    {
     "name": "stdout",
     "output_type": "stream",
     "text": [
      "<class 'pandas.core.frame.DataFrame'>\n",
      "RangeIndex: 4958347 entries, 0 to 4958346\n",
      "Data columns (total 16 columns):\n",
      " #   Column                       Dtype  \n",
      "---  ------                       -----  \n",
      " 0   site_id                      int64  \n",
      " 1   visitor_location_country_id  int64  \n",
      " 2   prop_country_id              int64  \n",
      " 3   prop_starrating              int64  \n",
      " 4   prop_brand_bool              int64  \n",
      " 5   prop_location_score1         float64\n",
      " 6   prop_log_historical_price    float64\n",
      " 7   promotion_flag               int64  \n",
      " 8   srch_destination_id          int64  \n",
      " 9   srch_length_of_stay          int64  \n",
      " 10  srch_booking_window          int64  \n",
      " 11  srch_saturday_night_bool     int64  \n",
      " 12  random_bool                  int64  \n",
      " 13  comp_rate                    float64\n",
      " 14  comp_inv                     float64\n",
      " 15  comp_rate_percent_diff       float64\n",
      "dtypes: float64(5), int64(11)\n",
      "memory usage: 605.3 MB\n"
     ]
    },
    {
     "name": "stderr",
     "output_type": "stream",
     "text": [
      "c:\\Users\\Ramon\\Desktop\\DMT_Asg_2\\functions\\preprocessing.py:9: FutureWarning: In a future version of pandas all arguments of DataFrame.drop except for the argument 'labels' will be keyword-only\n",
      "  return dataFrame.drop('date_time', 1)\n",
      "c:\\Users\\Ramon\\AppData\\Local\\Programs\\Python\\Python37\\lib\\site-packages\\ipykernel_launcher.py:17: FutureWarning: In a future version of pandas all arguments of DataFrame.drop except for the argument 'labels' will be keyword-only\n",
      "c:\\Users\\Ramon\\Desktop\\DMT_Asg_2\\functions\\preprocessing.py:33: FutureWarning: In a future version of pandas all arguments of DataFrame.drop except for the argument 'labels' will be keyword-only\n",
      "  'comp2_rate_percent_diff', 'comp5_rate_percent_diff', 'comp8_rate_percent_diff'], 1)\n",
      "c:\\Users\\Ramon\\AppData\\Local\\Programs\\Python\\Python37\\lib\\site-packages\\ipykernel_launcher.py:20: FutureWarning: In a future version of pandas all arguments of DataFrame.drop except for the argument 'labels' will be keyword-only\n",
      "c:\\Users\\Ramon\\AppData\\Local\\Programs\\Python\\Python37\\lib\\site-packages\\ipykernel_launcher.py:21: FutureWarning: In a future version of pandas all arguments of DataFrame.drop except for the argument 'labels' will be keyword-only\n"
     ]
    },
    {
     "name": "stdout",
     "output_type": "stream",
     "text": [
      "<class 'pandas.core.frame.DataFrame'>\n",
      "RangeIndex: 4959183 entries, 0 to 4959182\n",
      "Data columns (total 16 columns):\n",
      " #   Column                       Dtype  \n",
      "---  ------                       -----  \n",
      " 0   site_id                      int64  \n",
      " 1   visitor_location_country_id  int64  \n",
      " 2   prop_country_id              int64  \n",
      " 3   prop_starrating              int64  \n",
      " 4   prop_brand_bool              int64  \n",
      " 5   prop_location_score1         float64\n",
      " 6   prop_log_historical_price    float64\n",
      " 7   promotion_flag               int64  \n",
      " 8   srch_destination_id          int64  \n",
      " 9   srch_length_of_stay          int64  \n",
      " 10  srch_booking_window          int64  \n",
      " 11  srch_saturday_night_bool     int64  \n",
      " 12  random_bool                  int64  \n",
      " 13  comp_rate                    float64\n",
      " 14  comp_inv                     float64\n",
      " 15  comp_rate_percent_diff       float64\n",
      "dtypes: float64(5), int64(11)\n",
      "memory usage: 605.4 MB\n"
     ]
    },
    {
     "name": "stderr",
     "output_type": "stream",
     "text": [
      "c:\\Users\\Ramon\\AppData\\Local\\Programs\\Python\\Python37\\lib\\site-packages\\ipykernel_launcher.py:22: FutureWarning: In a future version of pandas all arguments of DataFrame.drop except for the argument 'labels' will be keyword-only\n"
     ]
    }
   ],
   "source": [
    "#training_data_y = training_data.booking_bool\n",
    "#training_data_x = training_data.drop(['booking_bool'],1)\n",
    "training_data_y = training_data.booking_bool\n",
    "training_data_x = training_data.drop(['click_bool', 'position', 'booking_bool'],1)\n",
    "training_data_x['srch_id'] = training_data_x['srch_id'].astype('category')\n",
    "search_id = training_data_x.srch_id.tolist()\n",
    "training_data_x = training_data_x.drop(['srch_id'],1)\n",
    "training_data_x = training_data_x.drop(columns_to_drop,1)\n",
    "\n",
    "training_data_x.info(verbose=True)\n",
    "scaler = StandardScaler().fit(training_data_x)\n",
    "training_data_x = scaler.transform(training_data_x)\n",
    "\n",
    "search_id_test = test_data.srch_id.tolist()\n",
    "prop_id_test = test_data.prop_id.tolist()\n",
    "test_data = prep.parseDateTime(test_data)\n",
    "test_data = test_data.drop(useless_columns[:-1],1)\n",
    "test_data = prep.replaceNaN(test_data)\n",
    "test_data = prep.mergeComps(test_data)\n",
    "test_data = test_data.drop(columns_to_drop,1)\n",
    "test_data = test_data.drop(['comp3_rate','comp3_inv'], 1)\n",
    "test_data = test_data.drop(['srch_id'],1)\n",
    "test_data.info(verbose=True)\n",
    "\n",
    "#training_data_x, testing_data_x, training_data_y, testing_data_y = train_test_split(training_data_x, training_data_y, test_size=0.25, random_state=42)\n",
    "\n",
    "del training_data\n",
    "#columns_to_drop = ['price_usd', 'month', 'year', 'srch_adults_count', 'srch_children_count', 'prop_id', 'srch_room_count']\n"
   ]
  },
  {
   "cell_type": "markdown",
   "metadata": {},
   "source": [
    "We then create and train the model"
   ]
  },
  {
   "cell_type": "code",
   "execution_count": 67,
   "metadata": {},
   "outputs": [
    {
     "name": "stderr",
     "output_type": "stream",
     "text": [
      "c:\\Users\\Ramon\\AppData\\Local\\Programs\\Python\\Python37\\lib\\site-packages\\sklearn\\svm\\_base.py:986: ConvergenceWarning: Liblinear failed to converge, increase the number of iterations.\n",
      "  \"the number of iterations.\", ConvergenceWarning)\n"
     ]
    },
    {
     "data": {
      "text/plain": [
       "LinearSVC()"
      ]
     },
     "execution_count": 67,
     "metadata": {},
     "output_type": "execute_result"
    }
   ],
   "source": [
    "clf = svm.LinearSVC() \n",
    "clf.fit(training_data_x, training_data_y)"
   ]
  },
  {
   "cell_type": "markdown",
   "metadata": {},
   "source": [
    "Make the predictions, and put them into a dataframe"
   ]
  },
  {
   "cell_type": "code",
   "execution_count": 68,
   "metadata": {},
   "outputs": [],
   "source": [
    "predicted_y = clf.predict(test_data)\n",
    "predicted_y_probability = clf._predict_proba_lr(test_data)"
   ]
  },
  {
   "cell_type": "code",
   "execution_count": 76,
   "metadata": {},
   "outputs": [
    {
     "name": "stdout",
     "output_type": "stream",
     "text": [
      "[1 1 1 1 1 0 0 0 0 0] [[9.70535011e-04 9.99029465e-01]\n",
      " [9.72756229e-04 9.99027244e-01]\n",
      " [9.69884234e-04 9.99030116e-01]\n",
      " [9.71849478e-04 9.99028151e-01]\n",
      " [9.48583494e-04 9.99051417e-01]\n",
      " [6.29215761e-01 3.70784239e-01]\n",
      " [6.35069805e-01 3.64930195e-01]\n",
      " [6.34567238e-01 3.65432762e-01]\n",
      " [6.34649757e-01 3.65350243e-01]\n",
      " [6.35966912e-01 3.64033088e-01]]\n"
     ]
    }
   ],
   "source": [
    "print(predicted_y[1990:2000], predicted_y_probability[1990:2000])"
   ]
  },
  {
   "cell_type": "code",
   "execution_count": 77,
   "metadata": {},
   "outputs": [],
   "source": [
    "highest_predict = np.amax(predicted_y_probability, axis=1)\n",
    "myDataFrame = pd.DataFrame(list(zip(search_id_test, prop_id_test, predicted_y, highest_predict)), columns=['srch_id', 'prop_id', 'predicted_y', 'predicted_y_probability'])"
   ]
  },
  {
   "cell_type": "code",
   "execution_count": 79,
   "metadata": {},
   "outputs": [
    {
     "data": {
      "text/html": [
       "<div>\n",
       "<style scoped>\n",
       "    .dataframe tbody tr th:only-of-type {\n",
       "        vertical-align: middle;\n",
       "    }\n",
       "\n",
       "    .dataframe tbody tr th {\n",
       "        vertical-align: top;\n",
       "    }\n",
       "\n",
       "    .dataframe thead th {\n",
       "        text-align: right;\n",
       "    }\n",
       "</style>\n",
       "<table border=\"1\" class=\"dataframe\">\n",
       "  <thead>\n",
       "    <tr style=\"text-align: right;\">\n",
       "      <th></th>\n",
       "      <th>srch_id</th>\n",
       "      <th>prop_id</th>\n",
       "      <th>predicted_y</th>\n",
       "      <th>predicted_y_probability</th>\n",
       "    </tr>\n",
       "  </thead>\n",
       "  <tbody>\n",
       "    <tr>\n",
       "      <th>25</th>\n",
       "      <td>1</td>\n",
       "      <td>128085</td>\n",
       "      <td>1</td>\n",
       "      <td>0.992293</td>\n",
       "    </tr>\n",
       "    <tr>\n",
       "      <th>7</th>\n",
       "      <td>1</td>\n",
       "      <td>37567</td>\n",
       "      <td>1</td>\n",
       "      <td>0.992230</td>\n",
       "    </tr>\n",
       "    <tr>\n",
       "      <th>23</th>\n",
       "      <td>1</td>\n",
       "      <td>99484</td>\n",
       "      <td>1</td>\n",
       "      <td>0.992189</td>\n",
       "    </tr>\n",
       "    <tr>\n",
       "      <th>9</th>\n",
       "      <td>1</td>\n",
       "      <td>54937</td>\n",
       "      <td>1</td>\n",
       "      <td>0.992188</td>\n",
       "    </tr>\n",
       "    <tr>\n",
       "      <th>12</th>\n",
       "      <td>1</td>\n",
       "      <td>61934</td>\n",
       "      <td>1</td>\n",
       "      <td>0.992161</td>\n",
       "    </tr>\n",
       "  </tbody>\n",
       "</table>\n",
       "</div>"
      ],
      "text/plain": [
       "    srch_id  prop_id  predicted_y  predicted_y_probability\n",
       "25        1   128085            1                 0.992293\n",
       "7         1    37567            1                 0.992230\n",
       "23        1    99484            1                 0.992189\n",
       "9         1    54937            1                 0.992188\n",
       "12        1    61934            1                 0.992161"
      ]
     },
     "execution_count": 79,
     "metadata": {},
     "output_type": "execute_result"
    }
   ],
   "source": [
    "myDataFrame = myDataFrame.sort_values(['srch_id', 'predicted_y_probability'], ascending = [True, False])\n",
    "myDataFrame = myDataFrame[myDataFrame.predicted_y == 1]\n",
    "myDataFrame[0:5]"
   ]
  },
  {
   "cell_type": "code",
   "execution_count": 81,
   "metadata": {},
   "outputs": [
    {
     "name": "stderr",
     "output_type": "stream",
     "text": [
      "c:\\Users\\Ramon\\AppData\\Local\\Programs\\Python\\Python37\\lib\\site-packages\\ipykernel_launcher.py:1: FutureWarning: In a future version of pandas all arguments of DataFrame.drop except for the argument 'labels' will be keyword-only\n",
      "  \"\"\"Entry point for launching an IPython kernel.\n"
     ]
    }
   ],
   "source": [
    "outputFrame = myDataFrame.drop(['predicted_y', 'predicted_y_probability'],1)\n",
    "outputFrame.to_csv('testOutput2.csv', index=False)"
   ]
  }
 ],
 "metadata": {
  "interpreter": {
   "hash": "84b962f2f278f8c5f72c48a6636c1f10fd3d5b5d26c18f151a5696f5b5a7ec31"
  },
  "kernelspec": {
   "display_name": "Python 3.7.9 64-bit",
   "language": "python",
   "name": "python3"
  },
  "language_info": {
   "codemirror_mode": {
    "name": "ipython",
    "version": 3
   },
   "file_extension": ".py",
   "mimetype": "text/x-python",
   "name": "python",
   "nbconvert_exporter": "python",
   "pygments_lexer": "ipython3",
   "version": "3.7.9"
  },
  "orig_nbformat": 4
 },
 "nbformat": 4,
 "nbformat_minor": 2
}

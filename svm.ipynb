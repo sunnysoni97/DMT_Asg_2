{
 "cells": [
  {
   "cell_type": "code",
   "execution_count": 13,
   "metadata": {},
   "outputs": [
    {
     "name": "stdout",
     "output_type": "stream",
     "text": [
      "This jupyter notebook is running on Python 3.7.9\n"
     ]
    }
   ],
   "source": [
    "import platform\n",
    "import sys\n",
    "import pandas as pd\n",
    "import calendar\n",
    "import matplotlib.pyplot as plt\n",
    "import seaborn as sns\n",
    "import numpy as np\n",
    "import functions.preprocessing as prep\n",
    "\n",
    "import sklearn\n",
    "from sklearn import svm\n",
    "from mpl_toolkits.mplot3d import Axes3D\n",
    "from sklearn.preprocessing import StandardScaler\n",
    "import sklearn.metrics as sm\n",
    "from sklearn import datasets\n",
    "from sklearn.metrics import confusion_matrix, classification_report\n",
    "from sklearn.model_selection import train_test_split\n",
    "\n",
    "print(\"This jupyter notebook is running on Python \" + platform.python_version())\n",
    "# It's good practice to assert packages requirements at the beginning of a script:\n",
    "assert sys.version_info >= (3, 6)  # Tested with Python==3.7.9"
   ]
  },
  {
   "cell_type": "code",
   "execution_count": 14,
   "metadata": {},
   "outputs": [],
   "source": [
    "training_set_file_path = 'data/training_set_VU_DM.csv'\n",
    "test_set_file_path = 'data/test_set_VU_DM.csv'\n",
    "training_data = pd.read_csv(training_set_file_path)\n",
    "test_data = pd.read_csv(test_set_file_path)"
   ]
  },
  {
   "cell_type": "code",
   "execution_count": 15,
   "metadata": {},
   "outputs": [
    {
     "name": "stderr",
     "output_type": "stream",
     "text": [
      "c:\\Users\\Ramon\\Desktop\\DMT_Asg_2\\functions\\preprocessing.py:9: FutureWarning: In a future version of pandas all arguments of DataFrame.drop except for the argument 'labels' will be keyword-only\n",
      "  return dataFrame.drop('date_time', 1)\n",
      "c:\\Users\\Ramon\\Desktop\\DMT_Asg_2\\functions\\preprocessing.py:19: FutureWarning: In a future version of pandas all arguments of DataFrame.drop except for the argument 'labels' will be keyword-only\n",
      "  return dataFrame.drop(useless_columns, 1)\n"
     ]
    },
    {
     "name": "stdout",
     "output_type": "stream",
     "text": [
      "<class 'pandas.core.frame.DataFrame'>\n",
      "RangeIndex: 4958347 entries, 0 to 4958346\n",
      "Data columns (total 55 columns):\n",
      " #   Column                       Dtype  \n",
      "---  ------                       -----  \n",
      " 0   srch_id                      int64  \n",
      " 1   site_id                      int64  \n",
      " 2   visitor_location_country_id  int64  \n",
      " 3   visitor_hist_starrating      float64\n",
      " 4   visitor_hist_adr_usd         float64\n",
      " 5   prop_country_id              int64  \n",
      " 6   prop_id                      int64  \n",
      " 7   prop_starrating              int64  \n",
      " 8   prop_review_score            float64\n",
      " 9   prop_brand_bool              int64  \n",
      " 10  prop_location_score1         float64\n",
      " 11  prop_location_score2         float64\n",
      " 12  prop_log_historical_price    float64\n",
      " 13  position                     int64  \n",
      " 14  price_usd                    float64\n",
      " 15  promotion_flag               int64  \n",
      " 16  srch_destination_id          int64  \n",
      " 17  srch_length_of_stay          int64  \n",
      " 18  srch_booking_window          int64  \n",
      " 19  srch_adults_count            int64  \n",
      " 20  srch_children_count          int64  \n",
      " 21  srch_room_count              int64  \n",
      " 22  srch_saturday_night_bool     int64  \n",
      " 23  srch_query_affinity_score    float64\n",
      " 24  orig_destination_distance    float64\n",
      " 25  random_bool                  int64  \n",
      " 26  comp1_rate                   float64\n",
      " 27  comp1_inv                    float64\n",
      " 28  comp1_rate_percent_diff      float64\n",
      " 29  comp2_rate                   float64\n",
      " 30  comp2_inv                    float64\n",
      " 31  comp2_rate_percent_diff      float64\n",
      " 32  comp3_rate                   float64\n",
      " 33  comp3_inv                    float64\n",
      " 34  comp3_rate_percent_diff      float64\n",
      " 35  comp4_rate                   float64\n",
      " 36  comp4_inv                    float64\n",
      " 37  comp4_rate_percent_diff      float64\n",
      " 38  comp5_rate                   float64\n",
      " 39  comp5_inv                    float64\n",
      " 40  comp5_rate_percent_diff      float64\n",
      " 41  comp6_rate                   float64\n",
      " 42  comp6_inv                    float64\n",
      " 43  comp6_rate_percent_diff      float64\n",
      " 44  comp7_rate                   float64\n",
      " 45  comp7_inv                    float64\n",
      " 46  comp7_rate_percent_diff      float64\n",
      " 47  comp8_rate                   float64\n",
      " 48  comp8_inv                    float64\n",
      " 49  comp8_rate_percent_diff      float64\n",
      " 50  click_bool                   int64  \n",
      " 51  gross_bookings_usd           float64\n",
      " 52  booking_bool                 int64  \n",
      " 53  year                         int64  \n",
      " 54  month                        int64  \n",
      "dtypes: float64(34), int64(21)\n",
      "memory usage: 2.0 GB\n"
     ]
    }
   ],
   "source": [
    "training_data = prep.parseDateTime(training_data)\n",
    "training_data = prep.replaceNaN(training_data)\n",
    "training_data = prep.removeUselessColumns(training_data, threshold=90)\n",
    "training_data.info(verbose=True)"
   ]
  },
  {
   "cell_type": "code",
   "execution_count": 16,
   "metadata": {},
   "outputs": [
    {
     "name": "stderr",
     "output_type": "stream",
     "text": [
      "c:\\Users\\Ramon\\AppData\\Local\\Programs\\Python\\Python37\\lib\\site-packages\\ipykernel_launcher.py:4: FutureWarning: In a future version of pandas all arguments of DataFrame.drop except for the argument 'labels' will be keyword-only\n",
      "  after removing the cwd from sys.path.\n"
     ]
    }
   ],
   "source": [
    "#training_data_y = training_data.booking_bool\n",
    "#training_data_x = training_data.drop(['booking_bool'],1)\n",
    "training_data_y = training_data.click_bool\n",
    "training_data_x = training_data.drop(['click_bool'],1)\n",
    "\n",
    "#training_data_y['booking_bool'] = training_data_y.astype('category')\n",
    "\n",
    "scaler = StandardScaler().fit(training_data_x)\n",
    "training_data_x = scaler.transform(training_data_x)\n",
    "\n",
    "training_data_x, testing_data_x, training_data_y, testing_data_y = train_test_split(training_data_x, training_data_y, test_size=0.25, random_state=42)\n",
    "\n",
    "del training_data"
   ]
  },
  {
   "cell_type": "code",
   "execution_count": 17,
   "metadata": {},
   "outputs": [],
   "source": [
    "clf = svm.LinearSVC() \n",
    "clf.fit(training_data_x, training_data_y)"
   ]
  },
  {
   "cell_type": "code",
   "execution_count": null,
   "metadata": {},
   "outputs": [],
   "source": [
    "#predictions = clf.predict(training_data_x[190:200])\n",
    "predicted_y = clf.predict(testing_data_x)\n",
    "tn, fp, fn, tp = confusion_matrix(testing_data_y, predicted_y).ravel()\n",
    "precision_score = tp / (tp + fp)\n",
    "recall_score = tp / (tp + fn)\n",
    "#print(training_data_y[190:200])"
   ]
  },
  {
   "cell_type": "code",
   "execution_count": null,
   "metadata": {},
   "outputs": [],
   "source": [
    "report = classification_report(testing_data_y, predicted_y, output_dict=True)\n",
    "temp = pd.DataFrame(report).transpose()\n",
    "temp.to_csv('click_bool_feature_output.csv')"
   ]
  },
  {
   "cell_type": "markdown",
   "metadata": {},
   "source": [
    "The following numbers are when using \"booking_bool\" as the target"
   ]
  },
  {
   "cell_type": "code",
   "execution_count": 7,
   "metadata": {},
   "outputs": [
    {
     "name": "stdout",
     "output_type": "stream",
     "text": [
      "Recall score: 0.999249790807052\n",
      "True positive: 34631\n",
      "True negative: 1204930\n",
      "False positive: 0\n",
      "False negative: 26\n"
     ]
    }
   ],
   "source": [
    "print(f'Recall score: {recall_score}\\nTrue positive: {tp}\\nTrue negative: {tn}\\nFalse positive: {fp}\\nFalse negative: {fn}')"
   ]
  },
  {
   "cell_type": "markdown",
   "metadata": {},
   "source": [
    "The following numbers are when using \"click_bool\" as a target"
   ]
  },
  {
   "cell_type": "code",
   "execution_count": null,
   "metadata": {},
   "outputs": [],
   "source": [
    "print(f'Recall score: {recall_score}\\nTrue positive: {tp}\\nTrue negative: {tn}\\nFalse positive: {fp}\\nFalse negative: {fn}')"
   ]
  }
 ],
 "metadata": {
  "interpreter": {
   "hash": "84b962f2f278f8c5f72c48a6636c1f10fd3d5b5d26c18f151a5696f5b5a7ec31"
  },
  "kernelspec": {
   "display_name": "Python 3.7.9 64-bit",
   "language": "python",
   "name": "python3"
  },
  "language_info": {
   "codemirror_mode": {
    "name": "ipython",
    "version": 3
   },
   "file_extension": ".py",
   "mimetype": "text/x-python",
   "name": "python",
   "nbconvert_exporter": "python",
   "pygments_lexer": "ipython3",
   "version": "3.7.9"
  },
  "orig_nbformat": 4
 },
 "nbformat": 4,
 "nbformat_minor": 2
}

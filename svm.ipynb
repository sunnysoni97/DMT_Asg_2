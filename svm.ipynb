{
 "cells": [
  {
   "cell_type": "code",
   "execution_count": 1,
   "metadata": {},
   "outputs": [
    {
     "name": "stdout",
     "output_type": "stream",
     "text": [
      "This jupyter notebook is running on Python 3.7.9\n"
     ]
    }
   ],
   "source": [
    "import platform\n",
    "import sys\n",
    "import pandas as pd\n",
    "import calendar\n",
    "import matplotlib.pyplot as plt\n",
    "import seaborn as sns\n",
    "import numpy as np\n",
    "import functions.preprocessing as prep\n",
    "\n",
    "import sklearn\n",
    "from sklearn import svm\n",
    "from mpl_toolkits.mplot3d import Axes3D\n",
    "from sklearn.preprocessing import StandardScaler\n",
    "import sklearn.metrics as sm\n",
    "from sklearn import datasets\n",
    "from sklearn.metrics import confusion_matrix, classification_report\n",
    "from sklearn.model_selection import train_test_split\n",
    "pd.set_option('display.max_columns', None)\n",
    "pd.set_option('display.max_rows', None)\n",
    "\n",
    "print(\"This jupyter notebook is running on Python \" + platform.python_version())\n",
    "# It's good practice to assert packages requirements at the beginning of a script:\n",
    "assert sys.version_info >= (3, 6)  # Tested with Python==3.7.9"
   ]
  },
  {
   "cell_type": "code",
   "execution_count": 29,
   "metadata": {},
   "outputs": [],
   "source": [
    "training_set_file_path = 'data/training_set_VU_DM.csv'\n",
    "test_set_file_path = 'data/test_set_VU_DM.csv'\n",
    "training_data = pd.read_csv(training_set_file_path)\n",
    "test_data = pd.read_csv(test_set_file_path)"
   ]
  },
  {
   "cell_type": "code",
   "execution_count": 30,
   "metadata": {},
   "outputs": [
    {
     "name": "stderr",
     "output_type": "stream",
     "text": [
      "c:\\Users\\Ramon\\Desktop\\DMT_Asg_2\\functions\\preprocessing.py:9: FutureWarning: In a future version of pandas all arguments of DataFrame.drop except for the argument 'labels' will be keyword-only\n",
      "  return dataFrame.drop('date_time', 1)\n",
      "c:\\Users\\Ramon\\Desktop\\DMT_Asg_2\\functions\\preprocessing.py:19: FutureWarning: In a future version of pandas all arguments of DataFrame.drop except for the argument 'labels' will be keyword-only\n",
      "  dataFrame = dataFrame.drop(useless_columns, 1)\n",
      "c:\\Users\\Ramon\\Desktop\\DMT_Asg_2\\functions\\preprocessing.py:20: FutureWarning: In a future version of pandas all arguments of DataFrame.drop except for the argument 'labels' will be keyword-only\n",
      "  dataFrame = dataFrame.drop(['comp3_rate','comp3_inv'], 1)\n",
      "c:\\Users\\Ramon\\Desktop\\DMT_Asg_2\\functions\\preprocessing.py:33: FutureWarning: In a future version of pandas all arguments of DataFrame.drop except for the argument 'labels' will be keyword-only\n",
      "  'comp2_rate_percent_diff', 'comp5_rate_percent_diff', 'comp8_rate_percent_diff'], 1)\n"
     ]
    }
   ],
   "source": [
    "training_data = prep.parseDateTime(training_data)\n",
    "training_data, useless_columns = prep.removeUselessColumns(training_data, threshold=90)\n",
    "training_data = prep.replaceNaN(training_data)\n",
    "training_data = prep.mergeComps(training_data)\n",
    "#training_data.info(verbose=True)"
   ]
  },
  {
   "cell_type": "markdown",
   "metadata": {},
   "source": [
    "Here we filter some of our data. Removing useless columns etc."
   ]
  },
  {
   "cell_type": "code",
   "execution_count": 31,
   "metadata": {},
   "outputs": [
    {
     "name": "stdout",
     "output_type": "stream",
     "text": [
      "['visitor_hist_starrating', 'visitor_hist_adr_usd', 'srch_query_affinity_score', 'comp1_rate', 'comp1_inv', 'comp1_rate_percent_diff', 'comp3_rate_percent_diff', 'comp4_rate', 'comp4_inv', 'comp4_rate_percent_diff', 'comp6_rate', 'comp6_inv', 'comp6_rate_percent_diff', 'comp7_rate', 'comp7_inv', 'comp7_rate_percent_diff', 'gross_bookings_usd']\n",
      "['visitor_hist_starrating', 'visitor_hist_adr_usd', 'srch_query_affinity_score', 'comp1_rate', 'comp1_inv', 'comp1_rate_percent_diff', 'comp3_rate_percent_diff', 'comp4_rate', 'comp4_inv', 'comp4_rate_percent_diff', 'comp6_rate', 'comp6_inv', 'comp6_rate_percent_diff', 'comp7_rate', 'comp7_inv', 'comp7_rate_percent_diff']\n"
     ]
    }
   ],
   "source": [
    "columns_to_drop = ['price_usd', 'month', 'year', 'srch_adults_count', 'srch_children_count', 'prop_id', \n",
    "                   'srch_room_count', 'prop_location_score2', 'prop_review_score', 'orig_destination_distance']\n",
    "print(useless_columns)\n",
    "temp = useless_columns[:-1]\n",
    "print(temp)\n",
    "#training_data = training_data.drop(columns_to_drop, 1)\n",
    "#training_data.info(verbose=True)\n"
   ]
  },
  {
   "cell_type": "markdown",
   "metadata": {},
   "source": [
    "Here we create a new column called \"relevancy\". A hotel can get a relevancy of 0, 1 or 5 based on whether it was booked, clicked or ignored."
   ]
  },
  {
   "cell_type": "code",
   "execution_count": 32,
   "metadata": {},
   "outputs": [],
   "source": [
    "conditions = [\n",
    "    (training_data['booking_bool'] == 1),\n",
    "    (training_data['click_bool'] == 1 ) & (training_data['booking_bool'] == 0),\n",
    "    (training_data['click_bool'] == 0),\n",
    "    ]\n",
    "values = ['5', '1', '0']\n",
    "training_data['relevancy'] = np.select(conditions, values)\n",
    "training_data['relevancy'] = training_data['relevancy'].astype('category')"
   ]
  },
  {
   "cell_type": "code",
   "execution_count": 33,
   "metadata": {},
   "outputs": [
    {
     "name": "stderr",
     "output_type": "stream",
     "text": [
      "c:\\Users\\Ramon\\AppData\\Local\\Programs\\Python\\Python37\\lib\\site-packages\\ipykernel_launcher.py:5: FutureWarning: In a future version of pandas all arguments of DataFrame.drop except for the argument 'labels' will be keyword-only\n",
      "  \"\"\"\n",
      "c:\\Users\\Ramon\\AppData\\Local\\Programs\\Python\\Python37\\lib\\site-packages\\ipykernel_launcher.py:8: FutureWarning: In a future version of pandas all arguments of DataFrame.drop except for the argument 'labels' will be keyword-only\n",
      "  \n",
      "c:\\Users\\Ramon\\AppData\\Local\\Programs\\Python\\Python37\\lib\\site-packages\\ipykernel_launcher.py:9: FutureWarning: In a future version of pandas all arguments of DataFrame.drop except for the argument 'labels' will be keyword-only\n",
      "  if __name__ == '__main__':\n"
     ]
    },
    {
     "name": "stdout",
     "output_type": "stream",
     "text": [
      "<class 'pandas.core.frame.DataFrame'>\n",
      "RangeIndex: 4958347 entries, 0 to 4958346\n",
      "Data columns (total 16 columns):\n",
      " #   Column                       Dtype  \n",
      "---  ------                       -----  \n",
      " 0   site_id                      int64  \n",
      " 1   visitor_location_country_id  int64  \n",
      " 2   prop_country_id              int64  \n",
      " 3   prop_starrating              int64  \n",
      " 4   prop_brand_bool              int64  \n",
      " 5   prop_location_score1         float64\n",
      " 6   prop_log_historical_price    float64\n",
      " 7   promotion_flag               int64  \n",
      " 8   srch_destination_id          int64  \n",
      " 9   srch_length_of_stay          int64  \n",
      " 10  srch_booking_window          int64  \n",
      " 11  srch_saturday_night_bool     int64  \n",
      " 12  random_bool                  int64  \n",
      " 13  comp_rate                    float64\n",
      " 14  comp_inv                     float64\n",
      " 15  comp_rate_percent_diff       float64\n",
      "dtypes: float64(5), int64(11)\n",
      "memory usage: 605.3 MB\n"
     ]
    },
    {
     "name": "stderr",
     "output_type": "stream",
     "text": [
      "c:\\Users\\Ramon\\Desktop\\DMT_Asg_2\\functions\\preprocessing.py:9: FutureWarning: In a future version of pandas all arguments of DataFrame.drop except for the argument 'labels' will be keyword-only\n",
      "  return dataFrame.drop('date_time', 1)\n",
      "c:\\Users\\Ramon\\AppData\\Local\\Programs\\Python\\Python37\\lib\\site-packages\\ipykernel_launcher.py:21: FutureWarning: In a future version of pandas all arguments of DataFrame.drop except for the argument 'labels' will be keyword-only\n",
      "c:\\Users\\Ramon\\Desktop\\DMT_Asg_2\\functions\\preprocessing.py:33: FutureWarning: In a future version of pandas all arguments of DataFrame.drop except for the argument 'labels' will be keyword-only\n",
      "  'comp2_rate_percent_diff', 'comp5_rate_percent_diff', 'comp8_rate_percent_diff'], 1)\n",
      "c:\\Users\\Ramon\\AppData\\Local\\Programs\\Python\\Python37\\lib\\site-packages\\ipykernel_launcher.py:24: FutureWarning: In a future version of pandas all arguments of DataFrame.drop except for the argument 'labels' will be keyword-only\n",
      "c:\\Users\\Ramon\\AppData\\Local\\Programs\\Python\\Python37\\lib\\site-packages\\ipykernel_launcher.py:25: FutureWarning: In a future version of pandas all arguments of DataFrame.drop except for the argument 'labels' will be keyword-only\n",
      "c:\\Users\\Ramon\\AppData\\Local\\Programs\\Python\\Python37\\lib\\site-packages\\ipykernel_launcher.py:26: FutureWarning: In a future version of pandas all arguments of DataFrame.drop except for the argument 'labels' will be keyword-only\n"
     ]
    }
   ],
   "source": [
    "#training_data_y = training_data.booking_bool\n",
    "#training_data_x = training_data.drop(['booking_bool'],1)\n",
    "training_data_y = training_data.relevancy\n",
    "#training_data_y = training_data_y[:500000]\n",
    "training_data_x = training_data.drop(['click_bool', 'position', 'booking_bool', 'relevancy'],1)\n",
    "training_data_x['srch_id'] = training_data_x['srch_id'].astype('category')\n",
    "search_id = training_data_x.srch_id.tolist()\n",
    "training_data_x = training_data_x.drop(['srch_id'],1)\n",
    "training_data_x = training_data_x.drop(columns_to_drop,1)\n",
    "#training_data_x = training_data_x[:500000]\n",
    "\n",
    "training_data_x.info(verbose=True)\n",
    "scaler = StandardScaler().fit(training_data_x)\n",
    "training_data_x = scaler.transform(training_data_x)\n",
    "\n",
    "search_id_test = test_data.srch_id.tolist()\n",
    "prop_id_test = test_data.prop_id.tolist()\n",
    "#prop_id_test = prop_id_test[:500000]\n",
    "#search_id_test = search_id_test[:500000]\n",
    "test_data = prep.parseDateTime(test_data)\n",
    "test_data = test_data.drop(useless_columns[:-1],1)\n",
    "test_data = prep.replaceNaN(test_data)\n",
    "test_data = prep.mergeComps(test_data)\n",
    "test_data = test_data.drop(columns_to_drop,1)\n",
    "test_data = test_data.drop(['comp3_rate','comp3_inv'], 1)\n",
    "test_data = test_data.drop(['srch_id'],1)\n",
    "#test_data = test_data[:500000]\n",
    "\n",
    "\n",
    "#test_data.info(verbose=True)\n",
    "\n",
    "#training_data_x, testing_data_x, training_data_y, testing_data_y = train_test_split(training_data_x, training_data_y, test_size=0.10, random_state=42, stratify=training_data_y)\n",
    "del training_data\n",
    "#columns_to_drop = ['price_usd', 'month', 'year', 'srch_adults_count', 'srch_children_count', 'prop_id', 'srch_room_count']\n"
   ]
  },
  {
   "cell_type": "markdown",
   "metadata": {},
   "source": [
    "We then create and train the model"
   ]
  },
  {
   "cell_type": "code",
   "execution_count": 36,
   "metadata": {},
   "outputs": [
    {
     "name": "stderr",
     "output_type": "stream",
     "text": [
      "c:\\Users\\Ramon\\AppData\\Local\\Programs\\Python\\Python37\\lib\\site-packages\\sklearn\\svm\\_base.py:986: ConvergenceWarning: Liblinear failed to converge, increase the number of iterations.\n",
      "  \"the number of iterations.\", ConvergenceWarning)\n"
     ]
    },
    {
     "data": {
      "text/plain": [
       "LinearSVC()"
      ]
     },
     "execution_count": 36,
     "metadata": {},
     "output_type": "execute_result"
    }
   ],
   "source": [
    "#clf = svm.LinearSVC() \n",
    "## 0, 1, 5\n",
    "clf = svm.LinearSVC()\n",
    "clf.fit(training_data_x, training_data_y)\n",
    "\n"
   ]
  },
  {
   "cell_type": "code",
   "execution_count": null,
   "metadata": {},
   "outputs": [],
   "source": [
    "#dec = clf.decision_function([1])"
   ]
  },
  {
   "cell_type": "markdown",
   "metadata": {},
   "source": [
    "Make the predictions, and put them into a dataframe"
   ]
  },
  {
   "cell_type": "code",
   "execution_count": 37,
   "metadata": {},
   "outputs": [],
   "source": [
    "predicted_y = clf.predict(test_data)\n",
    "predicted_y_probability = clf._predict_proba_lr(test_data)"
   ]
  },
  {
   "cell_type": "code",
   "execution_count": 40,
   "metadata": {},
   "outputs": [
    {
     "name": "stdout",
     "output_type": "stream",
     "text": [
      "['1' '1' '1' '1' '1' '1' '1' '1' '1' '1' '1' '1' '1' '1' '1' '1' '1' '1'\n",
      " '1' '1' '1' '1' '1' '1' '1' '1' '1' '1' '1' '1' '1' '1' '1' '1' '1' '1'\n",
      " '1' '1' '1' '1' '1' '1' '1' '1' '1' '1' '1' '1' '1' '1' '1' '1' '1' '1'\n",
      " '1' '1' '1' '1' '1' '1' '1' '1' '1' '1' '1' '1' '1' '1' '1' '1' '1' '1'\n",
      " '1' '1' '1' '1' '1' '1' '1' '1' '1' '1' '1' '1' '1' '1' '1' '1' '1' '1'\n",
      " '1' '1' '1' '1' '1' '1' '1' '1' '1' '1' '1' '1' '1' '1' '1' '1' '1' '1'\n",
      " '1' '1' '1' '1' '1' '1' '1' '1' '1' '1' '1' '1' '1' '1' '1' '1' '1' '1'\n",
      " '1' '1' '1' '1' '1' '1' '1' '1' '1' '1' '1' '1' '1' '1' '1' '1' '1' '1'\n",
      " '1' '1' '1' '1' '1' '1' '1' '1' '1' '1' '1' '1' '1' '1' '1' '1' '1' '1'\n",
      " '1' '1' '1' '1' '1' '1' '1' '1' '1' '1' '1' '1' '1' '1' '1' '1' '1' '1'\n",
      " '1' '1' '1' '1' '1' '1' '1' '1' '1' '1' '1' '1' '1' '1' '1' '1' '1' '1'\n",
      " '1' '1' '1' '1' '1' '1' '1' '1' '1' '1' '1' '1' '1' '1' '1' '1' '1' '1'\n",
      " '1' '1' '1' '1' '1' '1' '1' '1' '1' '1' '1' '1' '1' '1' '1' '1' '1' '1'\n",
      " '1' '1' '1' '1' '1' '1' '1' '1' '1' '1' '1' '1' '1' '1' '1' '1' '1' '1'\n",
      " '1' '1' '1' '1' '1' '1' '1' '1' '1' '1' '1' '1' '1' '1' '1' '1' '1' '1'\n",
      " '1' '1' '1' '1' '1' '1' '1' '1' '1' '1' '1' '1' '1' '1' '1' '1' '1' '1'\n",
      " '1' '1' '1' '1' '1' '1' '1' '1' '1' '1' '1' '1' '1' '1' '1' '1' '1' '1'\n",
      " '1' '1' '1' '1' '1' '1' '1' '1' '1' '1' '1' '1' '1' '1' '1' '1' '1' '1'\n",
      " '1' '1' '1' '1' '1' '1' '1' '1' '1' '1' '1' '1' '1' '1' '1' '1' '1' '1'\n",
      " '1' '1' '1' '1' '1' '1' '1' '1' '1' '1' '1' '1' '1' '1' '1' '1' '1' '1'\n",
      " '1' '1' '1' '1' '1' '1' '1' '1' '1' '1' '1' '1' '1' '1' '1' '1' '1' '1'\n",
      " '1' '1' '1' '1' '1' '1' '1' '1' '1' '1' '1' '1' '1' '1' '1' '1' '1' '1'\n",
      " '1' '1' '1' '1' '1' '1' '1' '1' '1' '1' '1' '1' '1' '1' '1' '1' '1' '1'\n",
      " '1' '1' '1' '1' '1' '1' '1' '1' '1' '1' '1' '1' '1' '1' '1' '1' '1' '1'\n",
      " '1' '1' '1' '1' '1' '1' '1' '1' '1' '1' '1' '1' '1' '1' '1' '1' '1' '1'\n",
      " '1' '1' '1' '1' '1' '1' '1' '1' '1' '1' '1' '1' '1' '1' '1' '1' '1' '1'\n",
      " '1' '1' '1' '1' '1' '1' '1' '1' '1' '1' '1' '1' '1' '1' '1' '1' '1' '1'\n",
      " '1' '1' '1' '1' '1' '1' '1' '1' '1' '1' '1' '1' '1']\n"
     ]
    }
   ],
   "source": [
    "#print(np.unique(predicted_y))\n",
    "print(predicted_y[1:500])\n"
   ]
  },
  {
   "cell_type": "code",
   "execution_count": 41,
   "metadata": {},
   "outputs": [],
   "source": [
    "highest_predict = np.amax(predicted_y_probability, axis=1)\n",
    "myDataFrame = pd.DataFrame(list(zip(search_id_test, prop_id_test, predicted_y, highest_predict)), columns=['srch_id', 'prop_id', 'predicted_y', 'predicted_y_probability'])"
   ]
  },
  {
   "cell_type": "code",
   "execution_count": 43,
   "metadata": {},
   "outputs": [
    {
     "name": "stdout",
     "output_type": "stream",
     "text": [
      "    srch_id  prop_id predicted_y  predicted_y_probability\n",
      "28        1   139162           1                 0.502334\n",
      "29        3     6533           1                 0.526839\n",
      "30        3    11425           1                 0.527138\n",
      "31        3    22325           1                 0.526968\n",
      "32        3    24915           1                 0.527330\n",
      "33        3    27753           1                 0.527144\n",
      "34        3    32382           1                 0.526905\n",
      "35        3    43133           1                 0.527128\n",
      "36        3    43362           1                 0.526937\n",
      "37        3    45550           1                 0.527134\n",
      "38        3    46861           1                 0.526493\n",
      "39        3    47238           1                 0.527148\n",
      "40        3    47377           1                 0.526607\n",
      "41        3    63039           1                 0.526553\n",
      "42        3    64168           1                 0.527215\n",
      "43        3    71543           1                 0.527243\n",
      "44        3    79176           1                 0.526718\n",
      "45        3    80734           1                 0.526807\n",
      "46        3    90968           1                 0.527101\n",
      "47        3    91337           1                 0.527179\n",
      "48        3    93176           1                 0.526723\n",
      "49        3    96614           1                 0.527021\n"
     ]
    }
   ],
   "source": [
    "print(myDataFrame[28:50])"
   ]
  },
  {
   "cell_type": "code",
   "execution_count": 44,
   "metadata": {},
   "outputs": [],
   "source": [
    "myDataFrame = myDataFrame.sort_values(['srch_id', 'predicted_y'], ascending = [True, False])\n",
    "#myDataFrame = myDataFrame[myDataFrame.predicted_y != 0]\n"
   ]
  },
  {
   "cell_type": "code",
   "execution_count": 45,
   "metadata": {},
   "outputs": [
    {
     "name": "stdout",
     "output_type": "stream",
     "text": [
      "1    4679343\n",
      "0     279743\n",
      "5         97\n",
      "Name: predicted_y, dtype: int64\n",
      "     srch_id  prop_id predicted_y  predicted_y_probability\n",
      "100       10    39517           1                 0.491548\n",
      "101       10    40475           1                 0.491721\n",
      "102       10    43662           1                 0.491869\n",
      "103       10    56573           1                 0.491180\n",
      "104       10    59466           1                 0.492033\n",
      "105       10    62403           1                 0.492051\n",
      "106       10    78989           1                 0.491428\n",
      "107       10    79561           1                 0.491213\n",
      "108       10    80396           1                 0.491730\n",
      "109       10    83789           1                 0.491283\n",
      "110       10    84447           1                 0.491236\n",
      "111       10    90052           1                 0.490580\n",
      "112       10    92193           1                 0.491064\n",
      "113       10    94138           1                 0.491806\n",
      "114       10   101198           1                 0.491752\n",
      "115       10   103583           1                 0.491986\n",
      "116       10   109983           1                 0.489863\n",
      "117       10   123801           1                 0.492030\n",
      "118       10   129263           1                 0.491719\n",
      "119       10   136210           1                 0.492121\n",
      "120       11    11702           1                 0.525758\n",
      "121       11    18714           1                 0.525952\n",
      "122       11    19917           1                 0.525805\n",
      "123       11    22204           1                 0.525842\n",
      "124       11    23470           1                 0.525713\n"
     ]
    }
   ],
   "source": [
    "print(myDataFrame['predicted_y'].value_counts)\n"
   ]
  },
  {
   "cell_type": "code",
   "execution_count": 76,
   "metadata": {},
   "outputs": [
    {
     "name": "stderr",
     "output_type": "stream",
     "text": [
      "c:\\Users\\Ramon\\AppData\\Local\\Programs\\Python\\Python37\\lib\\site-packages\\ipykernel_launcher.py:1: FutureWarning: In a future version of pandas all arguments of DataFrame.drop except for the argument 'labels' will be keyword-only\n",
      "  \"\"\"Entry point for launching an IPython kernel.\n"
     ]
    }
   ],
   "source": [
    "outputFrame = myDataFrame.drop(['predicted_y', 'predicted_y_probability'],1)\n",
    "outputFrame.to_csv('yooooo.csv', index=False)"
   ]
  }
 ],
 "metadata": {
  "interpreter": {
   "hash": "84b962f2f278f8c5f72c48a6636c1f10fd3d5b5d26c18f151a5696f5b5a7ec31"
  },
  "kernelspec": {
   "display_name": "Python 3.7.9 64-bit",
   "language": "python",
   "name": "python3"
  },
  "language_info": {
   "codemirror_mode": {
    "name": "ipython",
    "version": 3
   },
   "file_extension": ".py",
   "mimetype": "text/x-python",
   "name": "python",
   "nbconvert_exporter": "python",
   "pygments_lexer": "ipython3",
   "version": "3.7.9"
  },
  "orig_nbformat": 4
 },
 "nbformat": 4,
 "nbformat_minor": 2
}
